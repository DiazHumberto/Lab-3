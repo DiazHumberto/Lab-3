{
 "cells": [
  {
   "cell_type": "markdown",
   "id": "8191594d-dc4d-4485-bc9b-cc89845fe9b4",
   "metadata": {},
   "source": [
    "\n",
    "# <center> Lab Exercise 2: Fundamental Python Libraries for Data Scientists </center>\n",
    "<center>\n",
    "Humberto Díaz <br>\n",
    "The University of Winnipeg <br>\n",
    "DIT 54102 AIW01: Foundations of Data Science <br>\n",
    "Muhammad Shahin PhD. <br>\n",
    "March 23, 2025 <br>\n",
    "</center>"
   ]
  },
  {
   "attachments": {},
   "cell_type": "markdown",
   "id": "3bbb284f-5b47-4798-9a74-bce9538a1c2b",
   "metadata": {},
   "source": [
    "## Creating NumPy Arrays (with the example in class)\n",
    "<img src=\"6x6array.png\" width=\"200\">"
   ]
  },
  {
   "cell_type": "code",
   "execution_count": 5,
   "id": "75b8216d-6910-402b-94df-e9ff61163ac2",
   "metadata": {},
   "outputs": [],
   "source": [
    "# creating 2D example array 6x6\n",
    "import numpy as np\n",
    "a = np.array([[0, 1, 2, 3, 4, 5],\n",
    "              [10, 11, 12, 13, 14, 15],\n",
    "             [20, 21, 22, 23, 24, 25], \n",
    "             [30, 31, 32, 33, 34, 35], \n",
    "             [40, 41, 42, 43, 44, 45], \n",
    "             [50, 51, 52, 53, 54, 55]])"
   ]
  },
  {
   "cell_type": "code",
   "execution_count": 7,
   "id": "1b13882e-6bd1-4832-bf37-0ba60b682560",
   "metadata": {},
   "outputs": [
    {
     "data": {
      "text/plain": [
       "array([3, 4])"
      ]
     },
     "execution_count": 7,
     "metadata": {},
     "output_type": "execute_result"
    }
   ],
   "source": [
    "a[0, 3:5]"
   ]
  },
  {
   "cell_type": "code",
   "execution_count": 11,
   "id": "e46f87ef-57d0-408e-a021-f71186a8c1a2",
   "metadata": {},
   "outputs": [
    {
     "data": {
      "text/plain": [
       "array([[44, 45],\n",
       "       [54, 55]])"
      ]
     },
     "execution_count": 11,
     "metadata": {},
     "output_type": "execute_result"
    }
   ],
   "source": [
    "a[4:, 4:]"
   ]
  },
  {
   "cell_type": "code",
   "execution_count": 13,
   "id": "45ab392c-f6d1-4a15-b537-0d7e4fc333a6",
   "metadata": {},
   "outputs": [
    {
     "data": {
      "text/plain": [
       "array([ 2, 12, 22, 32, 42, 52])"
      ]
     },
     "execution_count": 13,
     "metadata": {},
     "output_type": "execute_result"
    }
   ],
   "source": [
    "a[:, 2]"
   ]
  },
  {
   "cell_type": "code",
   "execution_count": 15,
   "id": "dedb2445-f8c5-4199-bf7a-e04d7cadcc42",
   "metadata": {},
   "outputs": [
    {
     "data": {
      "text/plain": [
       "array([[20, 22, 24],\n",
       "       [40, 42, 44]])"
      ]
     },
     "execution_count": 15,
     "metadata": {},
     "output_type": "execute_result"
    }
   ],
   "source": [
    "a[2::2, ::2]"
   ]
  },
  {
   "cell_type": "code",
   "execution_count": null,
   "id": "89ee10ca-0eb6-4a4c-b6ba-f0640a41281e",
   "metadata": {},
   "outputs": [],
   "source": []
  }
 ],
 "metadata": {
  "kernelspec": {
   "display_name": "Python 3 (ipykernel)",
   "language": "python",
   "name": "python3"
  },
  "language_info": {
   "codemirror_mode": {
    "name": "ipython",
    "version": 3
   },
   "file_extension": ".py",
   "mimetype": "text/x-python",
   "name": "python",
   "nbconvert_exporter": "python",
   "pygments_lexer": "ipython3",
   "version": "3.11.5"
  }
 },
 "nbformat": 4,
 "nbformat_minor": 5
}
