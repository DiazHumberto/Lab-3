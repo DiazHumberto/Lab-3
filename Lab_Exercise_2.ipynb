{
 "cells": [
  {
   "cell_type": "markdown",
   "id": "8191594d-dc4d-4485-bc9b-cc89845fe9b4",
   "metadata": {},
   "source": [
    "\n",
    "# <center> Lab Exercise 2: Fundamental Python Libraries for Data Scientists </center>\n",
    "<center>\n",
    "Humberto Díaz <br>\n",
    "The University of Winnipeg <br>\n",
    "DIT 54102 AIW01: Foundations of Data Science <br>\n",
    "Muhammad Shahin PhD. <br>\n",
    "March 23, 2025 <br>\n",
    "</center>"
   ]
  },
  {
   "cell_type": "markdown",
   "id": "df26ba68-4e9c-42c0-bc34-2168ffb5061a",
   "metadata": {},
   "source": [
    "## Basic data types"
   ]
  },
  {
   "cell_type": "markdown",
   "id": "5d36e769-5b29-4799-8f55-15ccac04a619",
   "metadata": {},
   "source": [
    "### Numbers\n",
    "Integers and floats in Python behave as expected. Note that Python does not support unary increment (x++) or decrement (x--) operators."
   ]
  },
  {
   "cell_type": "code",
   "execution_count": 66,
   "id": "ceb72a57-6f34-4b64-ae66-ef53d7bb5637",
   "metadata": {},
   "outputs": [
    {
     "name": "stdout",
     "output_type": "stream",
     "text": [
      "<class 'int'>\n",
      "3\n",
      "4\n",
      "2\n",
      "6\n",
      "9\n",
      "4\n",
      "8\n",
      "<class 'float'>\n",
      "2.5 3.5 5.0 6.25\n"
     ]
    }
   ],
   "source": [
    "x = 3\n",
    "print(type(x))\n",
    "print(x)\n",
    "print(x + 1)\n",
    "print(x - 1)\n",
    "print(x * 2)\n",
    "print(x ** 2)\n",
    "x += 1\n",
    "print(x)\n",
    "x *= 2\n",
    "print(x)\n",
    "y = 2.5\n",
    "print(type(y))\n",
    "print(y, y + 1, y * 2, y ** 2)"
   ]
  },
  {
   "cell_type": "markdown",
   "id": "29098321-1066-4779-b235-18ee2c5b2dec",
   "metadata": {},
   "source": [
    "### Booleans\n",
    "Python implements Boolean logic using English words instead of symbols (&&, ||, etc.):"
   ]
  },
  {
   "cell_type": "code",
   "execution_count": 69,
   "id": "2ac3079c-375c-47b7-bd2a-b4a30b1a4474",
   "metadata": {},
   "outputs": [
    {
     "name": "stdout",
     "output_type": "stream",
     "text": [
      "<class 'bool'>\n",
      "False\n",
      "True\n",
      "False\n",
      "True\n"
     ]
    }
   ],
   "source": [
    "t = True\n",
    "f = False\n",
    "print(type(t))\n",
    "print(t and f)\n",
    "print(t or f)\n",
    "print(not t)\n",
    "print(t != f)"
   ]
  }
 ],
 "metadata": {
  "kernelspec": {
   "display_name": "Python 3 (ipykernel)",
   "language": "python",
   "name": "python3"
  },
  "language_info": {
   "codemirror_mode": {
    "name": "ipython",
    "version": 3
   },
   "file_extension": ".py",
   "mimetype": "text/x-python",
   "name": "python",
   "nbconvert_exporter": "python",
   "pygments_lexer": "ipython3",
   "version": "3.11.5"
  }
 },
 "nbformat": 4,
 "nbformat_minor": 5
}
