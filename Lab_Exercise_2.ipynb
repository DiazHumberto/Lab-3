{
 "cells": [
  {
   "cell_type": "markdown",
   "id": "8191594d-dc4d-4485-bc9b-cc89845fe9b4",
   "metadata": {},
   "source": [
    "\n",
    "# <center> Lab Exercise 2: Fundamental Python Libraries for Data Scientists </center>\n",
    "<center>\n",
    "Humberto Díaz <br>\n",
    "The University of Winnipeg <br>\n",
    "DIT 54102 AIW01: Foundations of Data Science <br>\n",
    "Muhammad Shahin PhD. <br>\n",
    "March 23, 2025 <br>\n",
    "</center>"
   ]
  },
  {
   "cell_type": "markdown",
   "id": "df26ba68-4e9c-42c0-bc34-2168ffb5061a",
   "metadata": {},
   "source": [
    "# Basic data types\n",
    "Python supports several basic data types, including integers, floats, booleans, and strings.<br>These types behave similarly to those in other languages."
   ]
  },
  {
   "cell_type": "markdown",
   "id": "5d36e769-5b29-4799-8f55-15ccac04a619",
   "metadata": {},
   "source": [
    "## Numbers\n",
    "Integers and floats in Python behave as expected.<br>Note that Python does not support unary increment (x++) or decrement (x--) operators."
   ]
  },
  {
   "cell_type": "code",
   "execution_count": 4,
   "id": "ceb72a57-6f34-4b64-ae66-ef53d7bb5637",
   "metadata": {},
   "outputs": [
    {
     "name": "stdout",
     "output_type": "stream",
     "text": [
      "<class 'int'>\n",
      "3\n",
      "4\n",
      "2\n",
      "6\n",
      "9\n",
      "4\n",
      "8\n",
      "<class 'float'>\n",
      "2.5 3.5 5.0 6.25\n"
     ]
    }
   ],
   "source": [
    "x = 3\n",
    "print(type(x))  # Check the type of x\n",
    "print(x)        # Print the value of x\n",
    "print(x + 1)    # Perform addition\n",
    "print(x - 1)    # Perform subtraction\n",
    "print(x * 2)    # Perform multiplication\n",
    "print(x ** 2)   # Perform exponentiation\n",
    "x += 1          # Increment x by 1\n",
    "print(x)        # Print the updated value of x\n",
    "x *= 2          # Multiply x by 2\n",
    "print(x)        # Print the updated value of x\n",
    "\n",
    "y = 2.5\n",
    "print(type(y))  # Check the type of y\n",
    "print(y, y + 1, y * 2, y ** 2)  # Perform multiple operations on y"
   ]
  },
  {
   "cell_type": "markdown",
   "id": "29098321-1066-4779-b235-18ee2c5b2dec",
   "metadata": {},
   "source": [
    "## Booleans\n",
    "Python implements Boolean logic using English words instead of symbols (&&, ||, etc.):"
   ]
  },
  {
   "cell_type": "code",
   "execution_count": 6,
   "id": "2ac3079c-375c-47b7-bd2a-b4a30b1a4474",
   "metadata": {},
   "outputs": [
    {
     "name": "stdout",
     "output_type": "stream",
     "text": [
      "<class 'bool'>\n",
      "False\n",
      "True\n",
      "False\n",
      "True\n"
     ]
    }
   ],
   "source": [
    "t = True\n",
    "f = False\n",
    "print(type(t))  # Check the type of t\n",
    "print(t and f)  # Logical AND operation\n",
    "print(t or f)   # Logical OR operation\n",
    "print(not t)    # Logical NOT operation\n",
    "print(t != f)   # Logical XOR operation"
   ]
  },
  {
   "cell_type": "markdown",
   "id": "b37abe64-e674-4b18-81f2-6042e96db02c",
   "metadata": {},
   "source": [
    "## Strings\n",
    "Python provides excellent support for strings:"
   ]
  },
  {
   "cell_type": "code",
   "execution_count": 8,
   "id": "45748c35-09ec-4bfa-b4b6-a5f911ec3106",
   "metadata": {},
   "outputs": [
    {
     "name": "stdout",
     "output_type": "stream",
     "text": [
      "hello\n",
      "5\n",
      "hello world\n"
     ]
    }
   ],
   "source": [
    "hello = 'hello'  # String with single quotes\n",
    "world = \"world\"  # String with double quotes\n",
    "print(hello)     # Print the string\n",
    "print(len(hello))  # Print the length of the string\n",
    "hw = hello + ' ' + world  # Concatenate strings\n",
    "print(hw)  # Print the concatenated string"
   ]
  },
  {
   "cell_type": "markdown",
   "id": "95511802-a45a-4d5e-a016-f03a50921569",
   "metadata": {},
   "source": [
    "String objects have many useful methods:"
   ]
  },
  {
   "cell_type": "code",
   "execution_count": 10,
   "id": "70595ac0-1301-494f-ba2d-a7f9b3a12a13",
   "metadata": {},
   "outputs": [
    {
     "name": "stdout",
     "output_type": "stream",
     "text": [
      "Hello\n",
      "HELLO\n",
      "  hello\n",
      " hello \n",
      "he(ell)(ell)o\n",
      "world\n"
     ]
    }
   ],
   "source": [
    "s = \"hello\"\n",
    "print(s.capitalize())  # Capitalize the string\n",
    "print(s.upper())       # Convert to uppercase\n",
    "print(s.rjust(7))      # Right-justify the string\n",
    "print(s.center(7))     # Center the string\n",
    "print(s.replace('l', '(ell)'))  # Replace substrings\n",
    "print('  world  '.strip())  # Remove leading and trailing whitespace"
   ]
  },
  {
   "cell_type": "markdown",
   "id": "9d224c73-cb3b-4f17-aea3-51a3a2a31f91",
   "metadata": {},
   "source": [
    "## Lists\n",
    "A list in Python is similar to an array but is resizable and can contain elements of different types:"
   ]
  },
  {
   "cell_type": "code",
   "execution_count": 12,
   "id": "20412858-0228-4307-bb53-98e6a4551daa",
   "metadata": {},
   "outputs": [
    {
     "name": "stdout",
     "output_type": "stream",
     "text": [
      "[3, 1, 2] 2\n",
      "2\n",
      "[3, 1, 'foo']\n",
      "[3, 1, 'foo', 'bar']\n",
      "bar [3, 1, 'foo']\n"
     ]
    }
   ],
   "source": [
    "xs = [3, 1, 2]    # Create a list\n",
    "print(xs, xs[2])  # Print the list and the element at index 2\n",
    "print(xs[-1])     # Print the last element using negative indexing\n",
    "xs[2] = 'foo'     # Modify the list to include mixed types\n",
    "print(xs)         # Print the updated list\n",
    "xs.append('bar')  # Add a new element to the end of the list\n",
    "print(xs)         # Print the updated list\n",
    "x = xs.pop()      # Remove and return the last element\n",
    "print(x, xs)      # Print the popped element and the updated list"
   ]
  },
  {
   "cell_type": "markdown",
   "id": "8c6ba92d-29e0-4a67-bc02-6f9b3d34b3e3",
   "metadata": {},
   "source": [
    "Slicing allows you to access sublists:\n",
    "\n"
   ]
  },
  {
   "cell_type": "code",
   "execution_count": 14,
   "id": "d42f4d7f-a268-4937-a193-c1eeaa3b3a00",
   "metadata": {},
   "outputs": [
    {
     "name": "stdout",
     "output_type": "stream",
     "text": [
      "[0, 1, 2, 3, 4]\n",
      "[2, 3]\n",
      "[2, 3, 4]\n",
      "[0, 1]\n",
      "[0, 1, 2, 3, 4]\n",
      "[0, 1, 2, 3]\n",
      "[0, 1, 8, 9, 4]\n"
     ]
    }
   ],
   "source": [
    "nums = list(range(5))  # Create a list of integers\n",
    "print(nums)            # Print the list\n",
    "print(nums[2:4])       # Slice from index 2 to 4 (exclusive)\n",
    "print(nums[2:])        # Slice from index 2 to the end\n",
    "print(nums[:2])        # Slice from the start to index 2 (exclusive)\n",
    "print(nums[:])         # Slice the entire list\n",
    "print(nums[:-1])       # Slice the list excluding the last element\n",
    "nums[2:4] = [8, 9]     # Replace a sublist\n",
    "print(nums)            # Print the updated list"
   ]
  },
  {
   "cell_type": "markdown",
   "id": "ac84e355-b8c2-46df-8b44-8c126063b0f9",
   "metadata": {},
   "source": [
    "##### Looping Over Lists\n",
    "You can loop over list elements:"
   ]
  },
  {
   "cell_type": "code",
   "execution_count": 16,
   "id": "fac7997c-aa30-4a08-93ab-dd2ff86f00a9",
   "metadata": {},
   "outputs": [
    {
     "name": "stdout",
     "output_type": "stream",
     "text": [
      "cat\n",
      "dog\n",
      "monkey\n"
     ]
    }
   ],
   "source": [
    "animals = ['cat', 'dog', 'monkey']\n",
    "for animal in animals:\n",
    "    print(animal)  # Print each animal"
   ]
  },
  {
   "cell_type": "markdown",
   "id": "d1f77a8c-cbd0-4c6d-8a2f-6d4eb8ca4f21",
   "metadata": {},
   "source": [
    "To access the index of each element, use enumerate:"
   ]
  },
  {
   "cell_type": "code",
   "execution_count": 18,
   "id": "01c03bc2-dc9b-4f2c-b48d-8ee4ba5b47e2",
   "metadata": {},
   "outputs": [
    {
     "name": "stdout",
     "output_type": "stream",
     "text": [
      "#1: cat\n",
      "#2: dog\n",
      "#3: monkey\n"
     ]
    }
   ],
   "source": [
    "animals = ['cat', 'dog', 'monkey']\n",
    "for idx, animal in enumerate(animals):\n",
    "    print('#%d: %s' % (idx + 1, animal))  # Print index and animal"
   ]
  },
  {
   "cell_type": "markdown",
   "id": "fbe4e231-fc42-4b74-9096-10d874af80b9",
   "metadata": {},
   "source": [
    "##### List Comprehensions\n",
    "List comprehensions provide a concise way to transform data:"
   ]
  },
  {
   "cell_type": "code",
   "execution_count": 20,
   "id": "07a9fead-a9c2-4d9c-b7c5-1886f51af91b",
   "metadata": {},
   "outputs": [
    {
     "name": "stdout",
     "output_type": "stream",
     "text": [
      "[0, 1, 4, 9, 16]\n"
     ]
    }
   ],
   "source": [
    "nums = [0, 1, 2, 3, 4]\n",
    "squares = [x ** 2 for x in nums]  # Create a list of squares\n",
    "print(squares)  # Print the list of squares"
   ]
  },
  {
   "cell_type": "code",
   "execution_count": 21,
   "id": "0d6228bf-c7ae-4aa1-8d92-7fd6ce90beba",
   "metadata": {},
   "outputs": [
    {
     "name": "stdout",
     "output_type": "stream",
     "text": [
      "[0, 4, 16]\n"
     ]
    }
   ],
   "source": [
    "nums = [0, 1, 2, 3, 4]\n",
    "even_squares = [x ** 2 for x in nums if x % 2 == 0]  # Squares of even numbers\n",
    "print(even_squares)  # Print the list of even squares"
   ]
  },
  {
   "cell_type": "markdown",
   "id": "deaaade1-aeeb-4480-a419-bc1274fc904d",
   "metadata": {},
   "source": [
    "## Dictionaries\n",
    "A dictionary stores (key, value) pairs:"
   ]
  },
  {
   "cell_type": "code",
   "execution_count": 23,
   "id": "9e87bb1c-f7bc-4c91-94c5-47b5395099bd",
   "metadata": {},
   "outputs": [
    {
     "name": "stdout",
     "output_type": "stream",
     "text": [
      "cute\n",
      "True\n",
      "wet\n",
      "N/A\n",
      "wet\n",
      "N/A\n"
     ]
    }
   ],
   "source": [
    "d = {'cat': 'cute', 'dog': 'furry'}  # Create a dictionary\n",
    "print(d['cat'])  # Access a value using a key\n",
    "print('cat' in d)  # Check if a key exists\n",
    "d['fish'] = 'wet'  # Add a new key-value pair\n",
    "print(d['fish'])  # Access the new value\n",
    "print(d.get('monkey', 'N/A'))  # Get a value with a default\n",
    "print(d.get('fish', 'N/A'))  # Get a value with a default\n",
    "del d['fish']  # Remove a key-value pair\n",
    "print(d.get('fish', 'N/A'))  # Attempt to access the removed key"
   ]
  },
  {
   "cell_type": "markdown",
   "id": "52520bcf-c6f3-44f3-9278-d192af2a10fe",
   "metadata": {},
   "source": [
    "Iterating over dictionary keys:"
   ]
  },
  {
   "cell_type": "code",
   "execution_count": 25,
   "id": "aa4eadf4-8819-4e9f-9544-460463febb82",
   "metadata": {},
   "outputs": [
    {
     "name": "stdout",
     "output_type": "stream",
     "text": [
      "A person has 2 legs\n",
      "A cat has 4 legs\n",
      "A spider has 8 legs\n"
     ]
    }
   ],
   "source": [
    "d = {'person': 2, 'cat': 4, 'spider': 8}\n",
    "for animal in d:\n",
    "    legs = d[animal]\n",
    "    print('A %s has %d legs' % (animal, legs))  # Print animal and leg count"
   ]
  },
  {
   "cell_type": "markdown",
   "id": "573eff14-920e-44cc-ba7d-db2fb91544a3",
   "metadata": {},
   "source": [
    "To access both keys and values, use items():"
   ]
  },
  {
   "cell_type": "code",
   "execution_count": 27,
   "id": "2088096a-b43d-4879-bfc5-c991719b0a29",
   "metadata": {},
   "outputs": [
    {
     "name": "stdout",
     "output_type": "stream",
     "text": [
      "A person has 2 legs\n",
      "A cat has 4 legs\n",
      "A spider has 8 legs\n"
     ]
    }
   ],
   "source": [
    "d = {'person': 2, 'cat': 4, 'spider': 8}\n",
    "for animal, legs in d.items():\n",
    "    print('A %s has %d legs' % (animal, legs))  # Print key-value pairs"
   ]
  },
  {
   "cell_type": "markdown",
   "id": "6e7441a2-f522-456b-95fc-33d97b6fadf5",
   "metadata": {},
   "source": [
    "Dictionary comprehensions:"
   ]
  },
  {
   "cell_type": "code",
   "execution_count": 29,
   "id": "43dbbe04-5953-4a3a-abdc-3eb30f53fc03",
   "metadata": {},
   "outputs": [
    {
     "name": "stdout",
     "output_type": "stream",
     "text": [
      "{0: 0, 2: 4, 4: 16}\n"
     ]
    }
   ],
   "source": [
    "nums = [0, 1, 2, 3, 4]\n",
    "even_num_to_square = {x: x ** 2 for x in nums if x % 2 == 0}  # Create a dictionary of even squares\n",
    "print(even_num_to_square)  # Print the dictionary"
   ]
  },
  {
   "cell_type": "markdown",
   "id": "b267f631-b12b-4ef2-93a3-ab8f4f66d7af",
   "metadata": {},
   "source": [
    "## Sets\n",
    "A set is an unordered collection of distinct elements:"
   ]
  },
  {
   "cell_type": "code",
   "execution_count": 31,
   "id": "6feac75e-d755-4ecf-8602-5aa6efe0488e",
   "metadata": {},
   "outputs": [
    {
     "name": "stdout",
     "output_type": "stream",
     "text": [
      "True\n",
      "False\n",
      "True\n",
      "3\n",
      "3\n",
      "2\n"
     ]
    }
   ],
   "source": [
    "animals = {'cat', 'dog'}\n",
    "print('cat' in animals)   # Check if an element is in the set\n",
    "print('fish' in animals)  # Check if an element is not in the set\n",
    "animals.add('fish')       # Add an element to the set\n",
    "print('fish' in animals)  # Check if the element was added\n",
    "print(len(animals))       # Print the number of elements in the set\n",
    "animals.add('cat')        # Add an existing element (no effect)\n",
    "print(len(animals))       # Print the number of elements (unchanged)\n",
    "animals.remove('cat')     # Remove an element from the set\n",
    "print(len(animals))       # Print the updated number of elements"
   ]
  },
  {
   "cell_type": "markdown",
   "id": "494de4a3-483a-4442-8856-3c1d4c683aa9",
   "metadata": {},
   "source": [
    "Iterating over a set:\n",
    "\n"
   ]
  },
  {
   "cell_type": "code",
   "execution_count": 33,
   "id": "1ceb0de0-da91-4cf3-a82f-3e69ce59e404",
   "metadata": {},
   "outputs": [
    {
     "name": "stdout",
     "output_type": "stream",
     "text": [
      "#1: fish\n",
      "#2: dog\n",
      "#3: cat\n"
     ]
    }
   ],
   "source": [
    "animals = {'cat', 'dog', 'fish'}\n",
    "for idx, animal in enumerate(animals):\n",
    "    print('#%d: %s' % (idx + 1, animal))  # Print index and animal"
   ]
  },
  {
   "cell_type": "markdown",
   "id": "38947e05-785b-45e3-8d44-94cf287a40cb",
   "metadata": {},
   "source": [
    "##### Set comprehensions"
   ]
  },
  {
   "cell_type": "code",
   "execution_count": 35,
   "id": "15a1938e-8b2a-4016-a89e-5370b1efb434",
   "metadata": {},
   "outputs": [
    {
     "name": "stdout",
     "output_type": "stream",
     "text": [
      "{0, 1, 2, 3, 4, 5}\n"
     ]
    }
   ],
   "source": [
    "from math import sqrt\n",
    "nums = {int(sqrt(x)) for x in range(30)}  # Create a set of square roots\n",
    "print(nums)  # Print the set"
   ]
  },
  {
   "cell_type": "markdown",
   "id": "3fecc7ae-55c6-4cda-a430-904b69b761aa",
   "metadata": {},
   "source": [
    "## Tuples\n",
    "A tuple is an immutable ordered list of values:"
   ]
  },
  {
   "cell_type": "code",
   "execution_count": 37,
   "id": "dca3bd6a-fa38-4545-8057-2dcd09521a95",
   "metadata": {},
   "outputs": [
    {
     "name": "stdout",
     "output_type": "stream",
     "text": [
      "<class 'tuple'>\n",
      "5\n",
      "1\n"
     ]
    }
   ],
   "source": [
    "d = {(x, x + 1): x for x in range(10)}  # Create a dictionary with tuple keys\n",
    "t = (5, 6)  # Create a tuple\n",
    "print(type(t))  # Check the type of t\n",
    "print(d[t])  # Access a value using a tuple key\n",
    "print(d[(1, 2)])  # Access another value using a tuple key"
   ]
  },
  {
   "cell_type": "markdown",
   "id": "1225807c-ba4c-4332-82c5-4e6be8700f54",
   "metadata": {},
   "source": [
    "# Numpy\n",
    "Numpy is the core library for scientific computing in Python.<br>It provides a high-performance multidimensional array object and tools for working with these arrays."
   ]
  },
  {
   "cell_type": "markdown",
   "id": "20f6d19e-17a8-4921-aed1-c27e8dce7669",
   "metadata": {},
   "source": [
    "#### Arrays\n",
    "A numpy array is a grid of values, all of the same type, and is indexed by a tuple of nonnegative integers. The number of dimensions is the rank of the array; the shape of an array is a tuple of integers giving the size of the array along each dimension. <br>\n",
    "We can initialize numpy arrays from nested Python lists, and access elements using square brackets: "
   ]
  },
  {
   "cell_type": "code",
   "execution_count": 40,
   "id": "7706e9cf-d42a-4b13-85dd-c29944324552",
   "metadata": {},
   "outputs": [
    {
     "name": "stdout",
     "output_type": "stream",
     "text": [
      "<class 'numpy.ndarray'>\n",
      "(3,)\n",
      "1 2 3\n",
      "[5 2 3]\n",
      "(2, 3)\n",
      "1 2 4\n"
     ]
    }
   ],
   "source": [
    "import numpy as np  # Import Numpy library as np\n",
    "\n",
    "a = np.array([1, 2, 3])  # Create a rank 1 array\n",
    "print(type(a))  # Check the type of the array\n",
    "print(a.shape)  # Print the shape of the array\n",
    "print(a[0], a[1], a[2])  # Print individual elements\n",
    "a[0] = 5  # Modify an element\n",
    "print(a)  # Print the updated array\n",
    "\n",
    "b = np.array([[1, 2, 3], [4, 5, 6]])  # Create a rank 2 array\n",
    "print(b.shape)  # Print the shape of the array\n",
    "print(b[0, 0], b[0, 1], b[1, 0])  # Print individual elements"
   ]
  },
  {
   "cell_type": "markdown",
   "id": "632adb64-f7aa-46e7-bbe0-bfb2a2a63283",
   "metadata": {},
   "source": [
    "##### Array Creation\n",
    "Numpy provides functions to create arrays:"
   ]
  },
  {
   "cell_type": "code",
   "execution_count": 42,
   "id": "e5a47f62-493b-46ee-ae87-4447bf153f36",
   "metadata": {},
   "outputs": [
    {
     "name": "stdout",
     "output_type": "stream",
     "text": [
      "[[0. 0.]\n",
      " [0. 0.]]\n",
      "[[1. 1.]]\n",
      "[[7 7]\n",
      " [7 7]]\n",
      "[[1. 0.]\n",
      " [0. 1.]]\n",
      "[[0.52327163 0.09924724]\n",
      " [0.33612736 0.24791159]]\n"
     ]
    }
   ],
   "source": [
    "a = np.zeros((2, 2))  # Create an array of zeros\n",
    "print(a)\n",
    "\n",
    "b = np.ones((1, 2))  # Create an array of ones\n",
    "print(b)\n",
    "\n",
    "c = np.full((2, 2), 7)  # Create a constant array\n",
    "print(c)\n",
    "\n",
    "d = np.eye(2)  # Create a 2x2 identity matrix\n",
    "print(d)\n",
    "\n",
    "e = np.random.random((2, 2))  # Create an array with random values\n",
    "print(e)"
   ]
  },
  {
   "cell_type": "markdown",
   "id": "78031c13-f07a-415b-88df-ac0c0005f436",
   "metadata": {},
   "source": [
    "##### Array Indexing\n",
    "Numpy arrays can be sliced:"
   ]
  },
  {
   "cell_type": "code",
   "execution_count": 44,
   "id": "492b92ba-8f2e-45bc-928f-afaebea07a0d",
   "metadata": {},
   "outputs": [
    {
     "name": "stdout",
     "output_type": "stream",
     "text": [
      "[[2 3]\n",
      " [6 7]]\n",
      "77\n"
     ]
    }
   ],
   "source": [
    "a = np.array([[1, 2, 3, 4], [5, 6, 7, 8], [9, 10, 11, 12]])\n",
    "b = a[:2, 1:3]  # Slice the first 2 rows and columns 1 and 2\n",
    "print(b)\n",
    "\n",
    "b[0, 0] = 77  # Modify the slice\n",
    "print(a[0, 1])  # The original array is also modified"
   ]
  },
  {
   "cell_type": "markdown",
   "id": "1ab4f162-2aa9-4d04-9891-7a3ecb391aef",
   "metadata": {},
   "source": [
    "##### Mixing Integer and Slice Indexing\n",
    "Mixing integer indexing with slice indexing results in an array of lower rank than the original array."
   ]
  },
  {
   "cell_type": "code",
   "execution_count": 46,
   "id": "a8e408d9-b6e4-4221-9c95-c81d2c44e927",
   "metadata": {},
   "outputs": [
    {
     "name": "stdout",
     "output_type": "stream",
     "text": [
      "[5 6 7 8] (4,)\n",
      "[[5 6 7 8]] (1, 4)\n",
      "[ 2  6 10] (3,)\n",
      "[[ 2]\n",
      " [ 6]\n",
      " [10]] (3, 1)\n"
     ]
    }
   ],
   "source": [
    "# Create a 2D array with shape (3, 4)\n",
    "a = np.array([[1, 2, 3, 4], [5, 6, 7, 8], [9, 10, 11, 12]])\n",
    "\n",
    "# Access the middle row using integer and slice indexing\n",
    "row_r1 = a[1, :]  # Rank 1 view of the second row\n",
    "row_r2 = a[1:2, :]  # Rank 2 view of the second row\n",
    "print(row_r1, row_r1.shape)  # Print the row and its shape\n",
    "print(row_r2, row_r2.shape)  # Print the row and its shape\n",
    "\n",
    "# Access columns using integer and slice indexing\n",
    "col_r1 = a[:, 1]  # Rank 1 view of the second column\n",
    "col_r2 = a[:, 1:2]  # Rank 2 view of the second column\n",
    "print(col_r1, col_r1.shape)  # Print the column and its shape\n",
    "print(col_r2, col_r2.shape)  # Print the column and its shape"
   ]
  },
  {
   "cell_type": "markdown",
   "id": "4bac68ca-e19e-40b9-a2b2-9cad17d64195",
   "metadata": {},
   "source": [
    "##### Integer Array Indexing\n",
    "Integer array indexing allows you to construct arbitrary arrays using data from another array."
   ]
  },
  {
   "cell_type": "code",
   "execution_count": 48,
   "id": "a6f77966-0665-44cf-8b92-5fd85bb74cd9",
   "metadata": {},
   "outputs": [
    {
     "name": "stdout",
     "output_type": "stream",
     "text": [
      "[1 4 5]\n",
      "[1 4 5]\n",
      "[2 2]\n",
      "[2 2]\n"
     ]
    }
   ],
   "source": [
    "# Create a 2D array\n",
    "a = np.array([[1, 2], [3, 4], [5, 6]])\n",
    "\n",
    "# Select specific elements using integer array indexing\n",
    "print(a[[0, 1, 2], [0, 1, 0]])  # Select elements at (0,0), (1,1), and (2,0)\n",
    "\n",
    "# Equivalent to the above using explicit indexing\n",
    "print(np.array([a[0, 0], a[1, 1], a[2, 0]]))\n",
    "\n",
    "# Reuse elements with integer array indexing\n",
    "print(a[[0, 0], [1, 1]])  # Select the same element twice\n",
    "\n",
    "# Equivalent to the above using explicit indexing\n",
    "print(np.array([a[0, 1], a[0, 1]]))"
   ]
  },
  {
   "cell_type": "markdown",
   "id": "f671a498-391b-4831-9e59-cb2dafd69d74",
   "metadata": {},
   "source": [
    "##### Selecting or Mutating Elements with Integer Array Indexing\n",
    "You can use integer array indexing to select or mutate one element from each row of a matrix."
   ]
  },
  {
   "cell_type": "code",
   "execution_count": 50,
   "id": "b8ba5cc8-5775-4908-a97e-247df9b20b44",
   "metadata": {},
   "outputs": [
    {
     "name": "stdout",
     "output_type": "stream",
     "text": [
      "[[ 1  2  3]\n",
      " [ 4  5  6]\n",
      " [ 7  8  9]\n",
      " [10 11 12]]\n",
      "[ 1  6  7 11]\n",
      "[[11  2  3]\n",
      " [ 4  5 16]\n",
      " [17  8  9]\n",
      " [10 21 12]]\n"
     ]
    }
   ],
   "source": [
    "# Create a 2D array\n",
    "a = np.array([[1, 2, 3], [4, 5, 6], [7, 8, 9], [10, 11, 12]])\n",
    "print(a)  # Print the original array\n",
    "\n",
    "# Create an array of indices\n",
    "b = np.array([0, 2, 0, 1])\n",
    "\n",
    "# Select one element from each row using the indices in b\n",
    "print(a[np.arange(4), b])  # Print the selected elements\n",
    "\n",
    "# Mutate one element from each row using the indices in b\n",
    "a[np.arange(4), b] += 10\n",
    "print(a)  # Print the updated array\n"
   ]
  },
  {
   "cell_type": "markdown",
   "id": "9fff1d5a-9b28-4514-9b36-237a4a9d2e98",
   "metadata": {},
   "source": [
    "##### Boolean Array Indexing\n",
    "Boolean array indexing allows you to select elements of an array that satisfy a certain condition."
   ]
  },
  {
   "cell_type": "code",
   "execution_count": 52,
   "id": "ff7e567a-fffc-4040-a476-e5ba82253771",
   "metadata": {},
   "outputs": [
    {
     "name": "stdout",
     "output_type": "stream",
     "text": [
      "[[False False]\n",
      " [ True  True]\n",
      " [ True  True]]\n",
      "[3 4 5 6]\n",
      "[3 4 5 6]\n"
     ]
    }
   ],
   "source": [
    "# Create a 2D array\n",
    "a = np.array([[1, 2], [3, 4], [5, 6]])\n",
    "\n",
    "# Create a boolean array where elements greater than 2 are True\n",
    "bool_idx = (a > 2)\n",
    "print(bool_idx)  # Print the boolean array\n",
    "\n",
    "# Use boolean array indexing to select elements greater than 2\n",
    "print(a[bool_idx])  # Print the selected elements\n",
    "\n",
    "# Equivalent concise statement\n",
    "print(a[a > 2])  # Print the selected elements"
   ]
  },
  {
   "cell_type": "markdown",
   "id": "06a20b23-846e-471c-a679-793d12d14c42",
   "metadata": {},
   "source": [
    "##### Numpy Data Types\n",
    "Every Numpy array is a grid of elements of the same type. Numpy provides a large set of numeric data types."
   ]
  },
  {
   "cell_type": "code",
   "execution_count": 54,
   "id": "2357e1ca-ba88-45ee-a060-c5f0e1cb1b20",
   "metadata": {},
   "outputs": [
    {
     "name": "stdout",
     "output_type": "stream",
     "text": [
      "int32\n",
      "float64\n",
      "int64\n"
     ]
    }
   ],
   "source": [
    "# Let Numpy choose the data type for integers\n",
    "x = np.array([1, 2])\n",
    "print(x.dtype)  # Print the data type\n",
    "\n",
    "# Let Numpy choose the data type for floats\n",
    "x = np.array([1.0, 2.0])\n",
    "print(x.dtype)  # Print the data type\n",
    "\n",
    "# Force a specific data type (int64)\n",
    "x = np.array([1, 2], dtype=np.int64)\n",
    "print(x.dtype)  # Print the data type"
   ]
  },
  {
   "cell_type": "markdown",
   "id": "0a30686b-285e-4c7a-9047-74df8afc6d97",
   "metadata": {},
   "source": [
    "##### Array Math\n",
    "Basic mathematical functions operate elementwise:"
   ]
  },
  {
   "cell_type": "code",
   "execution_count": 56,
   "id": "bf608f0d-8d73-4db9-9aae-5fbfa44e99a0",
   "metadata": {},
   "outputs": [
    {
     "name": "stdout",
     "output_type": "stream",
     "text": [
      "[[ 6.  8.]\n",
      " [10. 12.]]\n",
      "[[ 6.  8.]\n",
      " [10. 12.]]\n",
      "[[-4. -4.]\n",
      " [-4. -4.]]\n",
      "[[-4. -4.]\n",
      " [-4. -4.]]\n",
      "[[ 5. 12.]\n",
      " [21. 32.]]\n",
      "[[ 5. 12.]\n",
      " [21. 32.]]\n",
      "[[0.2        0.33333333]\n",
      " [0.42857143 0.5       ]]\n",
      "[[0.2        0.33333333]\n",
      " [0.42857143 0.5       ]]\n",
      "[[1.         1.41421356]\n",
      " [1.73205081 2.        ]]\n"
     ]
    }
   ],
   "source": [
    "x = np.array([[1, 2], [3, 4]], dtype=np.float64)\n",
    "y = np.array([[5, 6], [7, 8]], dtype=np.float64)\n",
    "\n",
    "print(x + y)  # Elementwise sum\n",
    "print(np.add(x, y))\n",
    "\n",
    "print(x - y)  # Elementwise difference\n",
    "print(np.subtract(x, y))\n",
    "\n",
    "print(x * y)  # Elementwise product\n",
    "print(np.multiply(x, y))\n",
    "\n",
    "print(x / y)  # Elementwise division\n",
    "print(np.divide(x, y))\n",
    "\n",
    "print(np.sqrt(x))  # Elementwise square root"
   ]
  },
  {
   "cell_type": "markdown",
   "id": "c7aebeaa-9862-4fb9-8aec-469e26bb33a4",
   "metadata": {},
   "source": [
    "Matrix multiplication is done using the dot function:"
   ]
  },
  {
   "cell_type": "code",
   "execution_count": 58,
   "id": "e9723e7e-ea9a-4f7c-9469-9c61c8d32572",
   "metadata": {},
   "outputs": [
    {
     "name": "stdout",
     "output_type": "stream",
     "text": [
      "219\n",
      "219\n",
      "[29 67]\n",
      "[29 67]\n",
      "[[19 22]\n",
      " [43 50]]\n",
      "[[19 22]\n",
      " [43 50]]\n"
     ]
    }
   ],
   "source": [
    "x = np.array([[1, 2], [3, 4]])\n",
    "y = np.array([[5, 6], [7, 8]])\n",
    "\n",
    "v = np.array([9, 10])\n",
    "w = np.array([11, 12])\n",
    "\n",
    "print(v.dot(w))  # Inner product of vectors\n",
    "print(np.dot(v, w))\n",
    "\n",
    "print(x.dot(v))  # Matrix / vector product\n",
    "print(np.dot(x, v))\n",
    "\n",
    "print(x.dot(y))  # Matrix / matrix product\n",
    "print(np.dot(x, y))"
   ]
  },
  {
   "cell_type": "markdown",
   "id": "cf24bf83-134a-4f9e-8882-a2696be5699f",
   "metadata": {},
   "source": [
    "##### Numpy Array Summation\n",
    "Numpy provides many useful functions for performing computations on arrays. One of the most commonly used functions is sum, which allows you to compute the sum of array elements along specified axes."
   ]
  },
  {
   "cell_type": "code",
   "execution_count": 60,
   "id": "d67f4616-b1d9-49fc-abc1-c011ccbd4e33",
   "metadata": {},
   "outputs": [
    {
     "name": "stdout",
     "output_type": "stream",
     "text": [
      "10\n",
      "[4 6]\n",
      "[3 7]\n"
     ]
    }
   ],
   "source": [
    "# Create a 2D array\n",
    "x = np.array([[1, 2], [3, 4]])\n",
    "\n",
    "# Compute the sum of all elements in the array\n",
    "print(np.sum(x))  # Sum all elements\n",
    "\n",
    "# Compute the sum of each column (axis=0)\n",
    "print(np.sum(x, axis=0))  # Sum along columns\n",
    "\n",
    "# Compute the sum of each row (axis=1)\n",
    "print(np.sum(x, axis=1))  # Sum along rows"
   ]
  },
  {
   "cell_type": "markdown",
   "id": "7b4f8bb0-b86b-4ed8-9398-5801e95da0e6",
   "metadata": {},
   "source": [
    "##### Array Manipulation\n",
    "Transposing a matrix:"
   ]
  },
  {
   "cell_type": "code",
   "execution_count": 62,
   "id": "9d12e25d-2cb7-4a1e-8d6d-2382718139b8",
   "metadata": {},
   "outputs": [
    {
     "name": "stdout",
     "output_type": "stream",
     "text": [
      "[[1 2]\n",
      " [3 4]]\n",
      "[[1 3]\n",
      " [2 4]]\n",
      "[1 2 3]\n",
      "[1 2 3]\n"
     ]
    }
   ],
   "source": [
    "x = np.array([[1, 2], [3, 4]])\n",
    "print(x)\n",
    "print(x.T)  # Transpose the matrix\n",
    "\n",
    "v = np.array([1, 2, 3])\n",
    "print(v)\n",
    "print(v.T)  # Transposing a rank 1 array does nothing"
   ]
  },
  {
   "cell_type": "markdown",
   "id": "60fe3dfb-1fcb-43ab-9f35-21cade9e55e7",
   "metadata": {},
   "source": [
    "#### Broadcasting\n",
    "Broadcasting allows numpy to work with arrays of different shapes:"
   ]
  },
  {
   "cell_type": "code",
   "execution_count": 64,
   "id": "4c46dfb8-29f2-4ffa-bc15-61b461ed88fe",
   "metadata": {},
   "outputs": [
    {
     "name": "stdout",
     "output_type": "stream",
     "text": [
      "[[ 2  2  4]\n",
      " [ 5  5  7]\n",
      " [ 8  8 10]\n",
      " [11 11 13]]\n"
     ]
    }
   ],
   "source": [
    "# Create a matrix with shape (4, 3)\n",
    "x = np.array([[1, 2, 3], [4, 5, 6], [7, 8, 9], [10, 11, 12]])\n",
    "\n",
    "# Create a vector with shape (3,)\n",
    "v = np.array([1, 0, 1])\n",
    "\n",
    "#Create an empty matrix with the same shape as x\n",
    "y = np.empty_like(x)\n",
    "\n",
    "#Add the vector v to each row of the matrix x with an explicit loop\n",
    "for i in range (4):\n",
    "    y[i, :] = x [i, :] + v\n",
    "\n",
    "# Result\n",
    "print(y) "
   ]
  },
  {
   "cell_type": "markdown",
   "id": "6d6e7644-0b76-4e6e-9c47-4ce540835d6e",
   "metadata": {},
   "source": [
    "##### Adding a Vector to Each Row of a Matrix\n",
    "When working with large matrices, using explicit loops in Python can be slow. Instead, you can use Numpy's tile function to stack multiple copies of a vector and perform elementwise operations efficiently."
   ]
  },
  {
   "cell_type": "code",
   "execution_count": 161,
   "id": "40d3ec10-057b-4b86-a062-12378038b3b3",
   "metadata": {},
   "outputs": [
    {
     "name": "stdout",
     "output_type": "stream",
     "text": [
      "[[1 0 1]\n",
      " [1 0 1]\n",
      " [1 0 1]\n",
      " [1 0 1]]\n",
      "[[ 2  2  4]\n",
      " [ 5  5  7]\n",
      " [ 8  8 10]\n",
      " [11 11 13]]\n"
     ]
    }
   ],
   "source": [
    "# Create a matrix with shape (4, 3)\n",
    "x = np.array([[1, 2, 3], [4, 5, 6], [7, 8, 9], [10, 11, 12]])\n",
    "\n",
    "# Create a vector with shape (3,)\n",
    "v = np.array([1, 0, 1])\n",
    "\n",
    "# Use np.tile to stack 4 copies of v vertically\n",
    "vv = np.tile(v, (4, 1))  # Stack v to match the shape of x\n",
    "print(vv)  # Print the stacked vector\n",
    "\n",
    "# Add the stacked vector to the matrix elementwise\n",
    "y = x + vv\n",
    "print(y)  # Print the result"
   ]
  },
  {
   "cell_type": "markdown",
   "id": "e694f501-6866-4bce-8376-0575cbbcf34b",
   "metadata": {},
   "source": [
    "Numpy broadcastinf allows us to perform this computation without actually creating multiple copies of v. Consider this version, using broadcasting:"
   ]
  },
  {
   "cell_type": "code",
   "execution_count": 68,
   "id": "bb1829c5-11f6-44f8-b247-43e680e52ec1",
   "metadata": {},
   "outputs": [
    {
     "name": "stdout",
     "output_type": "stream",
     "text": [
      "[[ 2  2  4]\n",
      " [ 5  5  7]\n",
      " [ 8  8 10]\n",
      " [11 11 13]]\n"
     ]
    }
   ],
   "source": [
    "# Create a matrix with shape (4, 3)\n",
    "x = np.array([[1, 2, 3], [4, 5, 6], [7, 8, 9], [10, 11, 12]])\n",
    "\n",
    "# Create a vector with shape (3,)\n",
    "v = np.array([1, 0, 1])\n",
    "\n",
    "# Add the vector to each row of the matrix using broadcasting\n",
    "y = x + v\n",
    "print(y)  # Print the result"
   ]
  },
  {
   "cell_type": "markdown",
   "id": "796d35d8-4025-4377-ae86-76d342f361cf",
   "metadata": {},
   "source": [
    "###### Outer Product of Vectors\n",
    "The outer product of two vectors can be computed using broadcasting by reshaping one of the vectors into a column vector."
   ]
  },
  {
   "cell_type": "code",
   "execution_count": 163,
   "id": "fb4780df-2d63-435d-845d-d3e7599fa896",
   "metadata": {},
   "outputs": [
    {
     "name": "stdout",
     "output_type": "stream",
     "text": [
      "[[ 4  5]\n",
      " [ 8 10]\n",
      " [12 15]]\n"
     ]
    }
   ],
   "source": [
    "# Define two vectors\n",
    "v = np.array([1, 2, 3])  # Shape (3,)\n",
    "w = np.array([4, 5])      # Shape (2,)\n",
    "\n",
    "# Reshape v to a column vector and compute the outer product\n",
    "outer_product = np.reshape(v, (3, 1)) * w\n",
    "print(outer_product)  # Print the outer product"
   ]
  },
  {
   "cell_type": "markdown",
   "id": "a8475e47-874b-46ad-915f-208edf96c038",
   "metadata": {},
   "source": [
    "###### Adding a Vector to Each Row of a Matrix\n",
    "You can add a vector to each row of a matrix using broadcasting."
   ]
  },
  {
   "cell_type": "code",
   "execution_count": 165,
   "id": "3d6a9908-bc0f-4660-add8-87195346d8a1",
   "metadata": {},
   "outputs": [
    {
     "name": "stdout",
     "output_type": "stream",
     "text": [
      "[[2 4 6]\n",
      " [5 7 9]]\n"
     ]
    }
   ],
   "source": [
    "# Define a matrix with shape (2, 3)\n",
    "x = np.array([[1, 2, 3], [4, 5, 6]])\n",
    "\n",
    "# Define a vector with shape (3,)\n",
    "v = np.array([1, 2, 3])\n",
    "\n",
    "# Add the vector to each row of the matrix\n",
    "result = x + v\n",
    "print(result)  # Print the result"
   ]
  },
  {
   "cell_type": "markdown",
   "id": "bb39b35a-0af6-4be3-ad5a-5d18fe8e6423",
   "metadata": {},
   "source": [
    "###### Adding a Vector to Each Column of a Matrix\n",
    "To add a vector to each column of a matrix, you can transpose the matrix, perform the addition, and then transpose it back."
   ]
  },
  {
   "cell_type": "code",
   "execution_count": 74,
   "id": "9c560491-d90f-4c60-aeee-ec93e816eeb5",
   "metadata": {},
   "outputs": [
    {
     "name": "stdout",
     "output_type": "stream",
     "text": [
      "[[ 5  6  7]\n",
      " [ 9 10 11]]\n",
      "[[ 5  6  7]\n",
      " [ 9 10 11]]\n"
     ]
    }
   ],
   "source": [
    "# Define a matrix with shape (2, 3)\n",
    "x = np.array([[1, 2, 3], [4, 5, 6]])\n",
    "\n",
    "# Define a vector with shape (2,)\n",
    "w = np.array([4, 5])\n",
    "\n",
    "# Add the vector to each column of the matrix\n",
    "result = (x.T + w).T\n",
    "print(result)  # Print the result\n",
    "\n",
    "# Alternatively, reshape w to a column vector and broadcast directly\n",
    "result_alt = x + np.reshape(w, (2, 1))\n",
    "print(result_alt)  # Print the alternative result"
   ]
  },
  {
   "cell_type": "markdown",
   "id": "a3a2eb9f-d751-450e-9ee3-bddf16c99346",
   "metadata": {},
   "source": [
    "###### Multiplying a Matrix by a Constant\n",
    "You can multiply a matrix by a scalar using broadcasting."
   ]
  },
  {
   "cell_type": "code",
   "execution_count": 76,
   "id": "62f11aa6-2909-4787-8701-3371a0872d7c",
   "metadata": {},
   "outputs": [
    {
     "name": "stdout",
     "output_type": "stream",
     "text": [
      "[[ 2  4  6]\n",
      " [ 8 10 12]]\n"
     ]
    }
   ],
   "source": [
    "# Define a matrix with shape (2, 3)\n",
    "x = np.array([[1, 2, 3], [4, 5, 6]])\n",
    "\n",
    "# Multiply the matrix by a scalar\n",
    "result = x * 2\n",
    "print(result)  # Print the result"
   ]
  },
  {
   "cell_type": "markdown",
   "id": "1ae15ccd-fa09-48ec-afda-076a6fbef5c5",
   "metadata": {},
   "source": [
    "# Scipy\n",
    "Numpy provides a high-performance multidimensional array and basic tools to compute with and manipulate these arrays. SciPy builds on this, and provides alarge number of functions that operate on numpy arrays and are useful for different types of scientific and engineering applications. "
   ]
  },
  {
   "cell_type": "markdown",
   "id": "2f48f53d-0972-48fb-9065-0bf7ab3cc9a8",
   "metadata": {},
   "source": [
    "## Distance Between Points\n",
    "Scipy provides functions to compute distances between points:"
   ]
  },
  {
   "cell_type": "code",
   "execution_count": 79,
   "id": "685f77ec-6ffc-4490-aa8b-e9fa61683ee1",
   "metadata": {},
   "outputs": [],
   "source": [
    "import numpy as np  #Import the librearies\n",
    "from scipy.spatial.distance import pdist, squareform"
   ]
  },
  {
   "cell_type": "code",
   "execution_count": 80,
   "id": "d82aa788-9031-4617-bcf3-07d2e5f50181",
   "metadata": {},
   "outputs": [
    {
     "name": "stdout",
     "output_type": "stream",
     "text": [
      "[[0.         1.41421356 2.23606798]\n",
      " [1.41421356 0.         1.        ]\n",
      " [2.23606798 1.         0.        ]]\n"
     ]
    }
   ],
   "source": [
    "x = np.array([[0, 1], [1, 0], [2, 0]])\n",
    "d = squareform(pdist(x, 'euclidean'))  # Compute Euclidean distances\n",
    "print(d)"
   ]
  },
  {
   "cell_type": "markdown",
   "id": "6d54caf5-02be-412a-b63c-464c075e0a02",
   "metadata": {},
   "source": [
    "# Matplotlib\n",
    "Matplotlib is a plotting library. Here’s a simple example:"
   ]
  },
  {
   "cell_type": "code",
   "execution_count": 169,
   "id": "1979d1d4-40d2-43ff-b5cb-37615d0ffc8b",
   "metadata": {},
   "outputs": [
    {
     "data": {
      "image/png": "[encoded data removed]",
      "text/plain": [
       "<Figure size 640x480 with 1 Axes>"
      ]
     },
     "metadata": {},
     "output_type": "display_data"
    }
   ],
   "source": [
    "import numpy as np  # Import NumPy for numerical operations\n",
    "import matplotlib.pyplot as plt  # Import Matplotlib for plotting\n",
    "\n",
    "# Generate an array of values from 0 to 3π with a step of 0.1\n",
    "x = np.arange(0, 3 * np.pi, 0.1)\n",
    "\n",
    "# Compute the sine of each value in x\n",
    "y = np.sin(x)\n",
    "\n",
    "plt.plot(x, y)  # Plot the sine curve\n",
    "plt.show()  # Display the plot"
   ]
  },
  {
   "cell_type": "markdown",
   "id": "3a3dcc10-a82a-4352-b5db-2f0d8da52eda",
   "metadata": {},
   "source": [
    "##### Plotting Multiple Lines with Labels\n",
    "You can plot multiple lines on the same graph and add titles, labels, and legends for better visualization."
   ]
  },
  {
   "cell_type": "code",
   "execution_count": 84,
   "id": "b2ae4e35-08f4-4cef-bfb8-533710bdf4b2",
   "metadata": {},
   "outputs": [
    {
     "data": {
      "image/png": "[encoded data removed]",
      "text/plain": [
       "<Figure size 640x480 with 1 Axes>"
      ]
     },
     "metadata": {},
     "output_type": "display_data"
    }
   ],
   "source": [
    "# Generate x and y coordinates for sine and cosine curves\n",
    "x = np.arange(0, 3 * np.pi, 0.1)  # x values from 0 to 3π with step 0.1\n",
    "y_sin = np.sin(x)  # Sine curve\n",
    "y_cos = np.cos(x)  # Cosine curve\n",
    "\n",
    "# Plot the sine and cosine curves\n",
    "plt.plot(x, y_sin, label='Sine')  # Plot sine curve with label\n",
    "plt.plot(x, y_cos, label='Cosine')  # Plot cosine curve with label\n",
    "\n",
    "# Add labels and title\n",
    "plt.xlabel('x axis label')  # Label for the x-axis\n",
    "plt.ylabel('y axis label')  # Label for the y-axis\n",
    "plt.title('Sine and Cosine')  # Title of the plot\n",
    "\n",
    "# Add a legend to distinguish the curves\n",
    "plt.legend()\n",
    "\n",
    "# Display the plot\n",
    "plt.show()"
   ]
  },
  {
   "cell_type": "markdown",
   "id": "a88e7aab-6367-4413-b8fd-ae0d7b1395be",
   "metadata": {},
   "source": [
    "##### Using Subplots\n",
    "Matplotlib allows you to create multiple subplots in the same figure using the subplot function."
   ]
  },
  {
   "cell_type": "code",
   "execution_count": 86,
   "id": "a68e158e-ce7b-4754-a0fc-b25d4a6c73d2",
   "metadata": {},
   "outputs": [
    {
     "data": {
      "image/png": "[encoded data removed]",
      "text/plain": [
       "<Figure size 640x480 with 2 Axes>"
      ]
     },
     "metadata": {},
     "output_type": "display_data"
    }
   ],
   "source": [
    "# Generate x and y coordinates for sine and cosine curves\n",
    "x = np.arange(0, 3 * np.pi, 0.1)  # x values from 0 to 3π with step 0.1\n",
    "y_sin = np.sin(x)  # Sine curve\n",
    "y_cos = np.cos(x)  # Cosine curve\n",
    "\n",
    "# Create a subplot grid with 2 rows and 1 column\n",
    "# Activate the first subplot\n",
    "plt.subplot(2, 1, 1)\n",
    "\n",
    "# Plot the sine curve in the first subplot\n",
    "plt.plot(x, y_sin)\n",
    "plt.title('Sine')  # Title for the first subplot\n",
    "\n",
    "# Activate the second subplot\n",
    "plt.subplot(2, 1, 2)\n",
    "\n",
    "# Plot the cosine curve in the second subplot\n",
    "plt.plot(x, y_cos)\n",
    "plt.title('Cosine')  # Title for the second subplot\n",
    "\n",
    "# Display the figure with both subplots\n",
    "plt.show()"
   ]
  },
  {
   "cell_type": "markdown",
   "id": "76e33e9f-2028-4dc6-8827-c0abfea32bcd",
   "metadata": {},
   "source": [
    "# Seaborn\n",
    "Seaborn is a statistical data visualization library. Here’s an example using the Iris dataset:"
   ]
  },
  {
   "cell_type": "code",
   "execution_count": 88,
   "id": "c0f8bee4-38af-4c16-b39c-da2a89a70323",
   "metadata": {},
   "outputs": [
    {
     "name": "stdout",
     "output_type": "stream",
     "text": [
      "(150, 5)\n",
      "    sepal-length  sepal-width  petal-length  petal-width        class\n",
      "0            5.1          3.5           1.4          0.2  Iris-setosa\n",
      "1            4.9          3.0           1.4          0.2  Iris-setosa\n",
      "2            4.7          3.2           1.3          0.2  Iris-setosa\n",
      "3            4.6          3.1           1.5          0.2  Iris-setosa\n",
      "4            5.0          3.6           1.4          0.2  Iris-setosa\n",
      "5            5.4          3.9           1.7          0.4  Iris-setosa\n",
      "6            4.6          3.4           1.4          0.3  Iris-setosa\n",
      "7            5.0          3.4           1.5          0.2  Iris-setosa\n",
      "8            4.4          2.9           1.4          0.2  Iris-setosa\n",
      "9            4.9          3.1           1.5          0.1  Iris-setosa\n",
      "10           5.4          3.7           1.5          0.2  Iris-setosa\n",
      "11           4.8          3.4           1.6          0.2  Iris-setosa\n",
      "12           4.8          3.0           1.4          0.1  Iris-setosa\n",
      "13           4.3          3.0           1.1          0.1  Iris-setosa\n",
      "14           5.8          4.0           1.2          0.2  Iris-setosa\n",
      "15           5.7          4.4           1.5          0.4  Iris-setosa\n",
      "16           5.4          3.9           1.3          0.4  Iris-setosa\n",
      "17           5.1          3.5           1.4          0.3  Iris-setosa\n",
      "18           5.7          3.8           1.7          0.3  Iris-setosa\n",
      "19           5.1          3.8           1.5          0.3  Iris-setosa\n",
      "       sepal-length  sepal-width  petal-length  petal-width\n",
      "count    150.000000   150.000000    150.000000   150.000000\n",
      "mean       5.843333     3.054000      3.758667     1.198667\n",
      "std        0.828066     0.433594      1.764420     0.763161\n",
      "min        4.300000     2.000000      1.000000     0.100000\n",
      "25%        5.100000     2.800000      1.600000     0.300000\n",
      "50%        5.800000     3.000000      4.350000     1.300000\n",
      "75%        6.400000     3.300000      5.100000     1.800000\n",
      "max        7.900000     4.400000      6.900000     2.500000\n",
      "class\n",
      "Iris-setosa        50\n",
      "Iris-versicolor    50\n",
      "Iris-virginica     50\n",
      "dtype: int64\n"
     ]
    }
   ],
   "source": [
    "import seaborn as sns\n",
    "import matplotlib.pyplot as plt\n",
    "from pandas import read_csv\n",
    "\n",
    "from pandas import read_csv\n",
    "\n",
    "# Load the Iris dataset from the UCI Machine Learning repository\n",
    "url = \"https://raw.githubusercontent.com/jbrownlee/Datasets/master/iris.csv\"\n",
    "names = ['sepal-length', 'sepal-width', 'petal-length', 'petal-width', 'class']\n",
    "dataset = read_csv(url, names=names)\n",
    "\n",
    "# Print the shape of the dataset\n",
    "print(dataset.shape)  # Output: (150, 5)\n",
    "\n",
    "# Display the first 20 rows of the dataset\n",
    "print(dataset.head(20))\n",
    "\n",
    "# Generate descriptive statistics of the dataset\n",
    "print(dataset.describe())\n",
    "\n",
    "# Display the distribution of classes (species)\n",
    "print(dataset.groupby('class').size())"
   ]
  },
  {
   "cell_type": "markdown",
   "id": "869ff7c2-18bd-4766-84e9-2f7095c2537a",
   "metadata": {},
   "source": [
    "##### Visualizing Data Distribution with Seaborn\n",
    "Seaborn provides powerful tools for visualizing data distributions and relationships between variables.\n",
    "\n",
    "1. Joint Plot\n",
    "A joint plot allows you to visualize the relationship between two variables along with their individual distributions."
   ]
  },
  {
   "cell_type": "code",
   "execution_count": 90,
   "id": "529ef35e-df14-4969-9486-986a0f35958c",
   "metadata": {},
   "outputs": [
    {
     "data": {
      "image/png": "[encoded data removed]",
      "text/plain": [
       "<Figure size 500x500 with 3 Axes>"
      ]
     },
     "metadata": {},
     "output_type": "display_data"
    }
   ],
   "source": [
    "# Create a joint plot of sepal length vs sepal width\n",
    "sns.jointplot(x='sepal-length', y='sepal-width', data=dataset, height=5)\n",
    "\n",
    "# Display the plot\n",
    "plt.show()"
   ]
  },
  {
   "cell_type": "markdown",
   "id": "e5c6465d-76e4-44ab-91ed-27d5ed391a28",
   "metadata": {},
   "source": [
    "2. FacetGrid with Scatter Plot <br>\n",
    "A FacetGrid allows you to create multiple plots based on the values of a categorical variable. Here, we use it to visualize the relationship between sepal length and sepal width, colored by species."
   ]
  },
  {
   "cell_type": "code",
   "execution_count": 92,
   "id": "b68cce3c-164a-4ecf-907c-7e21d8722647",
   "metadata": {},
   "outputs": [
    {
     "name": "stderr",
     "output_type": "stream",
     "text": [
      "C:\\Users\\PC\\anaconda3\\Lib\\site-packages\\seaborn\\axisgrid.py:118: UserWarning: The figure layout has changed to tight\n",
      "  self._figure.tight_layout(*args, **kwargs)\n"
     ]
    },
    {
     "data": {
      "image/png": "[encoded data removed]",
      "text/plain": [
       "<Figure size 643x500 with 1 Axes>"
      ]
     },
     "metadata": {},
     "output_type": "display_data"
    }
   ],
   "source": [
    "# Create a FacetGrid colored by species\n",
    "sns.FacetGrid(dataset, hue='class', height=5) \\\n",
    "   .map(plt.scatter, 'sepal-length', 'sepal-width') \\\n",
    "   .add_legend()\n",
    "\n",
    "# Display the plot\n",
    "plt.show()"
   ]
  },
  {
   "cell_type": "markdown",
   "id": "b54dc3d1-05e5-47cb-8396-4896f7672555",
   "metadata": {},
   "source": [
    "# Pick 5 NumPy array functions that you find interesting and 3 SciPy functions. Run and modify the starter code to illustrate their usage with interesting examples."
   ]
  },
  {
   "cell_type": "markdown",
   "id": "1ff4f12e-30a4-4b0c-8dd7-7d108fd2f5de",
   "metadata": {},
   "source": [
    "#### Numpy Functions"
   ]
  },
  {
   "cell_type": "code",
   "execution_count": 95,
   "id": "9fdc752d-ec92-4539-9a2a-a5cc558d5cc7",
   "metadata": {},
   "outputs": [],
   "source": [
    "# Import the NumPy library\n",
    "import numpy as np"
   ]
  },
  {
   "cell_type": "code",
   "execution_count": 96,
   "id": "c3315a5f-58d7-4e3a-bfa5-75b0e04fc1d6",
   "metadata": {},
   "outputs": [
    {
     "name": "stdout",
     "output_type": "stream",
     "text": [
      "Zeros Matrix Output:\n",
      " [[0. 0. 0. 0. 0. 0. 0. 0. 0. 0.]\n",
      " [0. 0. 0. 0. 0. 0. 0. 0. 0. 0.]\n",
      " [0. 0. 0. 0. 0. 0. 0. 0. 0. 0.]\n",
      " [0. 0. 0. 0. 0. 0. 0. 0. 0. 0.]\n",
      " [0. 0. 0. 0. 0. 0. 0. 0. 0. 0.]\n",
      " [0. 0. 0. 0. 0. 0. 0. 0. 0. 0.]\n",
      " [0. 0. 0. 0. 0. 0. 0. 0. 0. 0.]\n",
      " [0. 0. 0. 0. 0. 0. 0. 0. 0. 0.]\n",
      " [0. 0. 0. 0. 0. 0. 0. 0. 0. 0.]\n",
      " [0. 0. 0. 0. 0. 0. 0. 0. 0. 0.]]\n"
     ]
    }
   ],
   "source": [
    "# 1. np.zeros - Create an Array of Zeros\n",
    "# Generates a 10x10 matrix of zeros.\n",
    "a = np.zeros((10, 10))\n",
    "print(\"Zeros Matrix Output:\\n\", a)"
   ]
  },
  {
   "cell_type": "code",
   "execution_count": 97,
   "id": "c8f62759-9956-4d97-a68b-aff1366028c7",
   "metadata": {},
   "outputs": [
    {
     "name": "stdout",
     "output_type": "stream",
     "text": [
      "Ones Matrix Output:\n",
      " [[1. 1. 1. 1. 1. 1. 1. 1. 1. 1.]\n",
      " [1. 1. 1. 1. 1. 1. 1. 1. 1. 1.]\n",
      " [1. 1. 1. 1. 1. 1. 1. 1. 1. 1.]\n",
      " [1. 1. 1. 1. 1. 1. 1. 1. 1. 1.]\n",
      " [1. 1. 1. 1. 1. 1. 1. 1. 1. 1.]\n",
      " [1. 1. 1. 1. 1. 1. 1. 1. 1. 1.]\n",
      " [1. 1. 1. 1. 1. 1. 1. 1. 1. 1.]\n",
      " [1. 1. 1. 1. 1. 1. 1. 1. 1. 1.]\n",
      " [1. 1. 1. 1. 1. 1. 1. 1. 1. 1.]\n",
      " [1. 1. 1. 1. 1. 1. 1. 1. 1. 1.]]\n"
     ]
    }
   ],
   "source": [
    "# 2. np.ones - Create an Array of Ones\n",
    "# Generates a 10x10 matrix of ones.\n",
    "a = np.ones((10, 10))\n",
    "print(\"Ones Matrix Output:\\n\", a)"
   ]
  },
  {
   "cell_type": "code",
   "execution_count": 98,
   "id": "f34e17f2-7ac6-4c9d-9dc1-1cda2d83ff83",
   "metadata": {},
   "outputs": [
    {
     "name": "stdout",
     "output_type": "stream",
     "text": [
      "Random Array:\n",
      " [[2.82498783e-01 5.64155548e-01 2.36165928e-01 2.08856573e-01\n",
      "  3.08920197e-01 3.37395430e-01]\n",
      " [6.15365798e-01 7.03388740e-01 8.85135016e-01 3.43456947e-01\n",
      "  4.59686763e-01 3.70211290e-01]\n",
      " [5.77716003e-01 4.57186240e-01 3.03681658e-02 5.59005550e-01\n",
      "  8.66163009e-01 7.09364066e-01]\n",
      " [9.98275785e-01 8.01150911e-01 8.86816341e-01 2.35607586e-01\n",
      "  9.46481209e-01 2.68215355e-01]\n",
      " [4.51386181e-01 2.47703521e-01 8.97945469e-01 2.63365303e-01\n",
      "  7.13286339e-01 3.01542101e-01]\n",
      " [7.46458961e-01 8.37731679e-04 3.09283647e-01 3.92245256e-01\n",
      "  7.61093671e-01 6.64299302e-02]]\n"
     ]
    }
   ],
   "source": [
    "# 3. np.random.rand - Generate Random Numbers\n",
    "# Creates a 6x6 matrix with random values between 0 and 1.\n",
    "random_array_values = np.random.rand(6, 6)\n",
    "print(\"Random Array:\\n\", random_array_values)"
   ]
  },
  {
   "cell_type": "code",
   "execution_count": 99,
   "id": "1fdad71f-cfcf-4f2c-9624-6e4b8ef69dde",
   "metadata": {},
   "outputs": [
    {
     "name": "stdout",
     "output_type": "stream",
     "text": [
      "Linspace Output:\n",
      " [ 0.   2.5  5.   7.5 10. ]\n"
     ]
    }
   ],
   "source": [
    "# 4. np.linspace - Creating Evenly Spaced Values\n",
    "# Generates 5 evenly spaced numbers between 0 and 10.\n",
    "x = np.linspace(0, 10, 5)\n",
    "print(\"Linspace Output:\\n\", x)"
   ]
  },
  {
   "cell_type": "code",
   "execution_count": 100,
   "id": "ba123d86-010c-4976-8b6e-84b98f198964",
   "metadata": {},
   "outputs": [
    {
     "name": "stdout",
     "output_type": "stream",
     "text": [
      "Matrix Dot Product:\n",
      " [[19 22]\n",
      " [43 50]]\n"
     ]
    }
   ],
   "source": [
    "# 5. np.dot - Matrix Multiplication\n",
    "# Performs dot product of two 2x2 matrices.\n",
    "a = np.array([[1, 2], [3, 4]])\n",
    "b = np.array([[5, 6], [7, 8]])\n",
    "dot_product = np.dot(a, b)\n",
    "print(\"Matrix Dot Product:\\n\", dot_product)"
   ]
  },
  {
   "cell_type": "markdown",
   "id": "957b6a48-b3f6-4634-a35e-f44cb1a5e658",
   "metadata": {},
   "source": [
    "#### SciPy Functions"
   ]
  },
  {
   "cell_type": "code",
   "execution_count": 102,
   "id": "ae9038af-de69-40a3-a3cd-87de1d0b41c6",
   "metadata": {},
   "outputs": [],
   "source": [
    "# Import necessary modules from scipy and matplotlib\n",
    "\n",
    "from scipy.spatial.distance import pdist, squareform  # For pairwise distances and convert them to a square form\n",
    "import scipy.stats as stats  # For statistical functions like distributions\n",
    "import scipy.linalg as linalg  # For linear algebra functions (e.g., matrix operations)\n",
    "import scipy.optimize as optimize  # For optimization algorithms (e.g., solving equations)\n",
    "import matplotlib.pyplot as plt  # For creating plots and visualizations"
   ]
  },
  {
   "cell_type": "code",
   "execution_count": 103,
   "id": "a413d61c-4c92-49cf-a038-0b6208ec34b7",
   "metadata": {},
   "outputs": [
    {
     "data": {
      "image/png": "[encoded data removed]",
      "text/plain": [
       "<Figure size 640x480 with 2 Axes>"
      ]
     },
     "metadata": {},
     "output_type": "display_data"
    },
    {
     "name": "stdout",
     "output_type": "stream",
     "text": [
      "[[0.         1.41421356 2.23606798]\n",
      " [1.41421356 0.         1.        ]\n",
      " [2.23606798 1.         0.        ]]\n"
     ]
    }
   ],
   "source": [
    "# 1. scipy.spatial.distance - Euclidean Distance Matrix\n",
    "\n",
    "# Create an array of points\n",
    "x = np.array([[0, 1], [1, 0], [2, 0]])\n",
    "\n",
    "# Compute the Euclidean distances between the points\n",
    "d = squareform(pdist(x, 'euclidean'))\n",
    "\n",
    "# Plot the Euclidean distance matrix as a heatmap\n",
    "plt.imshow(d, cmap='viridis', interpolation='none')\n",
    "plt.colorbar(label='Euclidean Distance')  # Add color bar for scale\n",
    "\n",
    "# Set plot title\n",
    "plt.title(\"Euclidean Distance Matrix\")\n",
    "\n",
    "# Label the axes\n",
    "plt.xlabel(\"Points\")\n",
    "plt.ylabel(\"Points\")\n",
    "\n",
    "# Display the plot\n",
    "plt.show()\n",
    "\n",
    "# Print the Euclidean distance matrix\n",
    "print(d)\n"
   ]
  },
  {
   "cell_type": "code",
   "execution_count": 104,
   "id": "da151672-ee7e-458a-bfa6-14d9c5835042",
   "metadata": {},
   "outputs": [
    {
     "data": {
      "image/png": "[encoded data removed]",
      "text/plain": [
       "<Figure size 640x480 with 1 Axes>"
      ]
     },
     "metadata": {},
     "output_type": "display_data"
    }
   ],
   "source": [
    "# 2. scipy.stats.norm - Normal Distribution Probability Density Function (PDF)\n",
    "# Generates and plots the PDF of a normal distribution.\n",
    "\n",
    "# Generate Z values from -5 to 5 using linspace function drom NumPy\n",
    "Z = np.linspace(-5, 5, 100)\n",
    "\n",
    "# Compute the PDF for the normal distribution\n",
    "pdf_values = stats.norm.pdf(Z)\n",
    "\n",
    "# Plot the normal distribution curve\n",
    "plt.plot(Z, pdf_values, label='Normal Distribution')\n",
    "\n",
    "# Add legend\n",
    "plt.legend()\n",
    "\n",
    "# Set plot title and labels\n",
    "plt.title(\"Normal Distribution PDF\")\n",
    "plt.xlabel(\"Z Values\")\n",
    "plt.ylabel(\"Probability Density\")\n",
    "\n",
    "# Display the plot\n",
    "plt.show()"
   ]
  },
  {
   "cell_type": "code",
   "execution_count": 105,
   "id": "aa1eecc4-9e5b-4f9c-b07d-5f57ca341207",
   "metadata": {},
   "outputs": [
    {
     "data": {
      "image/png": "[encoded data removed]",
      "text/plain": [
       "<Figure size 640x480 with 1 Axes>"
      ]
     },
     "metadata": {},
     "output_type": "display_data"
    }
   ],
   "source": [
    "# 3. scipy.stats.binom - Binomial Distribution PMF\n",
    "\n",
    "# Set parameters: n trials, p probability of success\n",
    "n, p = 10, 0.5\n",
    "\n",
    "# Generate X values for number of successes\n",
    "x_values = np.arange(0, n+1)\n",
    "\n",
    "# Compute the PMF for binomial distribution\n",
    "pmf_values = stats.binom.pmf(x_values, n, p)\n",
    "\n",
    "# Plot the binomial distribution\n",
    "plt.bar(x_values, pmf_values, label=\"Binomial Distribution\")\n",
    "\n",
    "# Add legend and labels\n",
    "plt.legend()\n",
    "plt.title(\"Binomial Distribution PMF\")\n",
    "plt.xlabel(\"Number of Successes\")\n",
    "plt.ylabel(\"Probability\")\n",
    "\n",
    "# Show plot\n",
    "plt.show()\n"
   ]
  },
  {
   "cell_type": "markdown",
   "id": "b0b53c72-a9da-492f-865f-9bf0125989df",
   "metadata": {},
   "source": [
    "# Take Away"
   ]
  },
  {
   "cell_type": "markdown",
   "id": "ad04ead0-4275-4485-b8e3-1967ff6790db",
   "metadata": {},
   "source": [
    "The Lab Exercise #2 introduces the fundamental Python libraries for data science: NumPy, SciPy, Matplotlib, and Seaborn. These importants libraries give powerful tools for numerical computing, scientific computing, and visualization of data. By managing these packages, one can efficiently analyze and visualize data, making them essential for data science. <br>\n",
    "<br>\n",
    "**NumPy**, is the core library for numerical computing in Python, providing support for multidimensional arrays and a wide range of mathematical operations on these arrays. Based on NumPy, **SciPy** gives a higher functionality for scientific and engineering applications, extending its capabilities to more complex computations. For data visualization, **Matplotlib** is used as a powerful library for creating 2D plots and visualizations, enabling people to generate detailed and customizable graphs. Alongside Matplotlib, **Seaborn** gives a high level interface for creating statistical graphics, making it easier to produce visually appealing and informative plots for data analysis. All of these libraries form a strong toolkit for numerical computing, scientific analysis, and data visualization in Python."
   ]
  }
 ],
 "metadata": {
  "kernelspec": {
   "display_name": "Python 3 (ipykernel)",
   "language": "python",
   "name": "python3"
  },
  "language_info": {
   "codemirror_mode": {
    "name": "ipython",
    "version": 3
   },
   "file_extension": ".py",
   "mimetype": "text/x-python",
   "name": "python",
   "nbconvert_exporter": "python",
   "pygments_lexer": "ipython3",
   "version": "3.11.5"
  }
 },
 "nbformat": 4,
 "nbformat_minor": 5
}
