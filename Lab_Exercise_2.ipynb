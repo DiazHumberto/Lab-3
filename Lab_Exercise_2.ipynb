{
 "cells": [
  {
   "cell_type": "markdown",
   "id": "8191594d-dc4d-4485-bc9b-cc89845fe9b4",
   "metadata": {},
   "source": [
    "\n",
    "# <center> Lab Exercise 2: Fundamental Python Libraries for Data Scientists </center>\n",
    "<center>\n",
    "Humberto Díaz <br>\n",
    "The University of Winnipeg <br>\n",
    "DIT 54102 AIW01: Foundations of Data Science <br>\n",
    "Muhammad Shahin PhD. <br>\n",
    "March 23, 2025 <br>\n",
    "</center>"
   ]
  },
  {
   "cell_type": "markdown",
   "id": "df26ba68-4e9c-42c0-bc34-2168ffb5061a",
   "metadata": {},
   "source": [
    "## Basic data types\n",
    "Python supports several basic data types, including integers, floats, booleans, and strings.<br>These types behave similarly to those in other languages."
   ]
  },
  {
   "cell_type": "markdown",
   "id": "5d36e769-5b29-4799-8f55-15ccac04a619",
   "metadata": {},
   "source": [
    "#### Numbers\n",
    "Integers and floats in Python behave as expected.<br>Note that Python does not support unary increment (x++) or decrement (x--) operators."
   ]
  },
  {
   "cell_type": "code",
   "execution_count": 5,
   "id": "ceb72a57-6f34-4b64-ae66-ef53d7bb5637",
   "metadata": {},
   "outputs": [
    {
     "name": "stdout",
     "output_type": "stream",
     "text": [
      "<class 'int'>\n",
      "3\n",
      "4\n",
      "2\n",
      "6\n",
      "9\n",
      "4\n",
      "8\n",
      "<class 'float'>\n",
      "2.5 3.5 5.0 6.25\n"
     ]
    }
   ],
   "source": [
    "x = 3\n",
    "print(type(x))  # Check the type of x\n",
    "print(x)        # Print the value of x\n",
    "print(x + 1)    # Perform addition\n",
    "print(x - 1)    # Perform subtraction\n",
    "print(x * 2)    # Perform multiplication\n",
    "print(x ** 2)   # Perform exponentiation\n",
    "x += 1          # Increment x by 1\n",
    "print(x)        # Print the updated value of x\n",
    "x *= 2          # Multiply x by 2\n",
    "print(x)        # Print the updated value of x\n",
    "\n",
    "y = 2.5\n",
    "print(type(y))  # Check the type of y\n",
    "print(y, y + 1, y * 2, y ** 2)  # Perform multiple operations on y"
   ]
  },
  {
   "cell_type": "markdown",
   "id": "29098321-1066-4779-b235-18ee2c5b2dec",
   "metadata": {},
   "source": [
    "#### Booleans\n",
    "Python implements Boolean logic using English words instead of symbols (&&, ||, etc.):"
   ]
  },
  {
   "cell_type": "code",
   "execution_count": 7,
   "id": "2ac3079c-375c-47b7-bd2a-b4a30b1a4474",
   "metadata": {},
   "outputs": [
    {
     "name": "stdout",
     "output_type": "stream",
     "text": [
      "<class 'bool'>\n",
      "False\n",
      "True\n",
      "False\n",
      "True\n"
     ]
    }
   ],
   "source": [
    "t = True\n",
    "f = False\n",
    "print(type(t))  # Check the type of t\n",
    "print(t and f)  # Logical AND operation\n",
    "print(t or f)   # Logical OR operation\n",
    "print(not t)    # Logical NOT operation\n",
    "print(t != f)   # Logical XOR operation"
   ]
  },
  {
   "cell_type": "markdown",
   "id": "b37abe64-e674-4b18-81f2-6042e96db02c",
   "metadata": {},
   "source": [
    "#### Strings\n",
    "Python provides excellent support for strings:\n"
   ]
  },
  {
   "cell_type": "code",
   "execution_count": 9,
   "id": "45748c35-09ec-4bfa-b4b6-a5f911ec3106",
   "metadata": {},
   "outputs": [
    {
     "name": "stdout",
     "output_type": "stream",
     "text": [
      "hello\n",
      "5\n",
      "hello world\n"
     ]
    }
   ],
   "source": [
    "hello = 'hello'  # String with single quotes\n",
    "world = \"world\"  # String with double quotes\n",
    "print(hello)     # Print the string\n",
    "print(len(hello))  # Print the length of the string\n",
    "hw = hello + ' ' + world  # Concatenate strings\n",
    "print(hw)  # Print the concatenated string"
   ]
  },
  {
   "cell_type": "markdown",
   "id": "95511802-a45a-4d5e-a016-f03a50921569",
   "metadata": {},
   "source": [
    "String objects have many useful methods:"
   ]
  },
  {
   "cell_type": "code",
   "execution_count": 11,
   "id": "70595ac0-1301-494f-ba2d-a7f9b3a12a13",
   "metadata": {},
   "outputs": [
    {
     "name": "stdout",
     "output_type": "stream",
     "text": [
      "Hello\n",
      "HELLO\n",
      "  hello\n",
      " hello \n",
      "he(ell)(ell)o\n",
      "world\n"
     ]
    }
   ],
   "source": [
    "s = \"hello\"\n",
    "print(s.capitalize())  # Capitalize the string\n",
    "print(s.upper())       # Convert to uppercase\n",
    "print(s.rjust(7))      # Right-justify the string\n",
    "print(s.center(7))     # Center the string\n",
    "print(s.replace('l', '(ell)'))  # Replace substrings\n",
    "print('  world  '.strip())  # Remove leading and trailing whitespace"
   ]
  },
  {
   "cell_type": "markdown",
   "id": "9d224c73-cb3b-4f17-aea3-51a3a2a31f91",
   "metadata": {},
   "source": [
    "#### Lists\n",
    "A list in Python is similar to an array but is resizable and can contain elements of different types:"
   ]
  },
  {
   "cell_type": "code",
   "execution_count": 13,
   "id": "20412858-0228-4307-bb53-98e6a4551daa",
   "metadata": {},
   "outputs": [
    {
     "name": "stdout",
     "output_type": "stream",
     "text": [
      "[3, 1, 2] 2\n",
      "2\n",
      "[3, 1, 'foo']\n",
      "[3, 1, 'foo', 'bar']\n",
      "bar [3, 1, 'foo']\n"
     ]
    }
   ],
   "source": [
    "xs = [3, 1, 2]    # Create a list\n",
    "print(xs, xs[2])  # Print the list and the element at index 2\n",
    "print(xs[-1])     # Print the last element using negative indexing\n",
    "xs[2] = 'foo'     # Modify the list to include mixed types\n",
    "print(xs)         # Print the updated list\n",
    "xs.append('bar')  # Add a new element to the end of the list\n",
    "print(xs)         # Print the updated list\n",
    "x = xs.pop()      # Remove and return the last element\n",
    "print(x, xs)      # Print the popped element and the updated list"
   ]
  },
  {
   "cell_type": "markdown",
   "id": "8c6ba92d-29e0-4a67-bc02-6f9b3d34b3e3",
   "metadata": {},
   "source": [
    "Slicing allows you to access sublists:\n",
    "\n"
   ]
  },
  {
   "cell_type": "code",
   "execution_count": 15,
   "id": "d42f4d7f-a268-4937-a193-c1eeaa3b3a00",
   "metadata": {},
   "outputs": [
    {
     "name": "stdout",
     "output_type": "stream",
     "text": [
      "[0, 1, 2, 3, 4]\n",
      "[2, 3]\n",
      "[2, 3, 4]\n",
      "[0, 1]\n",
      "[0, 1, 2, 3, 4]\n",
      "[0, 1, 2, 3]\n",
      "[0, 1, 8, 9, 4]\n"
     ]
    }
   ],
   "source": [
    "nums = list(range(5))  # Create a list of integers\n",
    "print(nums)            # Print the list\n",
    "print(nums[2:4])       # Slice from index 2 to 4 (exclusive)\n",
    "print(nums[2:])        # Slice from index 2 to the end\n",
    "print(nums[:2])        # Slice from the start to index 2 (exclusive)\n",
    "print(nums[:])         # Slice the entire list\n",
    "print(nums[:-1])       # Slice the list excluding the last element\n",
    "nums[2:4] = [8, 9]     # Replace a sublist\n",
    "print(nums)            # Print the updated list"
   ]
  },
  {
   "cell_type": "markdown",
   "id": "ac84e355-b8c2-46df-8b44-8c126063b0f9",
   "metadata": {},
   "source": [
    "#### Looping Over Lists\n",
    "You can loop over list elements:"
   ]
  },
  {
   "cell_type": "code",
   "execution_count": 17,
   "id": "fac7997c-aa30-4a08-93ab-dd2ff86f00a9",
   "metadata": {},
   "outputs": [
    {
     "name": "stdout",
     "output_type": "stream",
     "text": [
      "cat\n",
      "dog\n",
      "monkey\n"
     ]
    }
   ],
   "source": [
    "animals = ['cat', 'dog', 'monkey']\n",
    "for animal in animals:\n",
    "    print(animal)  # Print each animal"
   ]
  },
  {
   "cell_type": "markdown",
   "id": "d1f77a8c-cbd0-4c6d-8a2f-6d4eb8ca4f21",
   "metadata": {},
   "source": [
    "To access the index of each element, use enumerate:"
   ]
  },
  {
   "cell_type": "code",
   "execution_count": 19,
   "id": "01c03bc2-dc9b-4f2c-b48d-8ee4ba5b47e2",
   "metadata": {},
   "outputs": [
    {
     "name": "stdout",
     "output_type": "stream",
     "text": [
      "#1: cat\n",
      "#2: dog\n",
      "#3: monkey\n"
     ]
    }
   ],
   "source": [
    "animals = ['cat', 'dog', 'monkey']\n",
    "for idx, animal in enumerate(animals):\n",
    "    print('#%d: %s' % (idx + 1, animal))  # Print index and animal"
   ]
  },
  {
   "cell_type": "markdown",
   "id": "fbe4e231-fc42-4b74-9096-10d874af80b9",
   "metadata": {},
   "source": [
    "### List Comprehensions\n",
    "List comprehensions provide a concise way to transform data:"
   ]
  },
  {
   "cell_type": "code",
   "execution_count": 21,
   "id": "07a9fead-a9c2-4d9c-b7c5-1886f51af91b",
   "metadata": {},
   "outputs": [
    {
     "name": "stdout",
     "output_type": "stream",
     "text": [
      "[0, 1, 4, 9, 16]\n"
     ]
    }
   ],
   "source": [
    "nums = [0, 1, 2, 3, 4]\n",
    "squares = [x ** 2 for x in nums]  # Create a list of squares\n",
    "print(squares)  # Print the list of squares"
   ]
  },
  {
   "cell_type": "code",
   "execution_count": 22,
   "id": "0d6228bf-c7ae-4aa1-8d92-7fd6ce90beba",
   "metadata": {},
   "outputs": [
    {
     "name": "stdout",
     "output_type": "stream",
     "text": [
      "[0, 4, 16]\n"
     ]
    }
   ],
   "source": [
    "nums = [0, 1, 2, 3, 4]\n",
    "even_squares = [x ** 2 for x in nums if x % 2 == 0]  # Squares of even numbers\n",
    "print(even_squares)  # Print the list of even squares"
   ]
  },
  {
   "cell_type": "markdown",
   "id": "deaaade1-aeeb-4480-a419-bc1274fc904d",
   "metadata": {},
   "source": [
    "#### Dictionaries\n",
    "A dictionary stores (key, value) pairs:"
   ]
  },
  {
   "cell_type": "code",
   "execution_count": 24,
   "id": "9e87bb1c-f7bc-4c91-94c5-47b5395099bd",
   "metadata": {},
   "outputs": [
    {
     "name": "stdout",
     "output_type": "stream",
     "text": [
      "cute\n",
      "True\n",
      "wet\n",
      "N/A\n",
      "wet\n",
      "N/A\n"
     ]
    }
   ],
   "source": [
    "d = {'cat': 'cute', 'dog': 'furry'}  # Create a dictionary\n",
    "print(d['cat'])  # Access a value using a key\n",
    "print('cat' in d)  # Check if a key exists\n",
    "d['fish'] = 'wet'  # Add a new key-value pair\n",
    "print(d['fish'])  # Access the new value\n",
    "print(d.get('monkey', 'N/A'))  # Get a value with a default\n",
    "print(d.get('fish', 'N/A'))  # Get a value with a default\n",
    "del d['fish']  # Remove a key-value pair\n",
    "print(d.get('fish', 'N/A'))  # Attempt to access the removed key"
   ]
  },
  {
   "cell_type": "markdown",
   "id": "52520bcf-c6f3-44f3-9278-d192af2a10fe",
   "metadata": {},
   "source": [
    "Iterating over dictionary keys:"
   ]
  },
  {
   "cell_type": "code",
   "execution_count": 26,
   "id": "aa4eadf4-8819-4e9f-9544-460463febb82",
   "metadata": {},
   "outputs": [
    {
     "name": "stdout",
     "output_type": "stream",
     "text": [
      "A person has 2 legs\n",
      "A cat has 4 legs\n",
      "A spider has 8 legs\n"
     ]
    }
   ],
   "source": [
    "d = {'person': 2, 'cat': 4, 'spider': 8}\n",
    "for animal in d:\n",
    "    legs = d[animal]\n",
    "    print('A %s has %d legs' % (animal, legs))  # Print animal and leg count"
   ]
  },
  {
   "cell_type": "markdown",
   "id": "573eff14-920e-44cc-ba7d-db2fb91544a3",
   "metadata": {},
   "source": [
    "To access both keys and values, use items():"
   ]
  },
  {
   "cell_type": "code",
   "execution_count": 28,
   "id": "2088096a-b43d-4879-bfc5-c991719b0a29",
   "metadata": {},
   "outputs": [
    {
     "name": "stdout",
     "output_type": "stream",
     "text": [
      "A person has 2 legs\n",
      "A cat has 4 legs\n",
      "A spider has 8 legs\n"
     ]
    }
   ],
   "source": [
    "d = {'person': 2, 'cat': 4, 'spider': 8}\n",
    "for animal, legs in d.items():\n",
    "    print('A %s has %d legs' % (animal, legs))  # Print key-value pairs"
   ]
  },
  {
   "cell_type": "markdown",
   "id": "6e7441a2-f522-456b-95fc-33d97b6fadf5",
   "metadata": {},
   "source": [
    "Dictionary comprehensions:"
   ]
  },
  {
   "cell_type": "code",
   "execution_count": 30,
   "id": "43dbbe04-5953-4a3a-abdc-3eb30f53fc03",
   "metadata": {},
   "outputs": [
    {
     "name": "stdout",
     "output_type": "stream",
     "text": [
      "{0: 0, 2: 4, 4: 16}\n"
     ]
    }
   ],
   "source": [
    "nums = [0, 1, 2, 3, 4]\n",
    "even_num_to_square = {x: x ** 2 for x in nums if x % 2 == 0}  # Create a dictionary of even squares\n",
    "print(even_num_to_square)  # Print the dictionary"
   ]
  },
  {
   "cell_type": "markdown",
   "id": "b267f631-b12b-4ef2-93a3-ab8f4f66d7af",
   "metadata": {},
   "source": [
    "#### Sets\n",
    "A set is an unordered collection of distinct elements:"
   ]
  },
  {
   "cell_type": "code",
   "execution_count": 32,
   "id": "6feac75e-d755-4ecf-8602-5aa6efe0488e",
   "metadata": {},
   "outputs": [
    {
     "name": "stdout",
     "output_type": "stream",
     "text": [
      "True\n",
      "False\n",
      "True\n",
      "3\n",
      "3\n",
      "2\n"
     ]
    }
   ],
   "source": [
    "animals = {'cat', 'dog'}\n",
    "print('cat' in animals)   # Check if an element is in the set\n",
    "print('fish' in animals)  # Check if an element is not in the set\n",
    "animals.add('fish')       # Add an element to the set\n",
    "print('fish' in animals)  # Check if the element was added\n",
    "print(len(animals))       # Print the number of elements in the set\n",
    "animals.add('cat')        # Add an existing element (no effect)\n",
    "print(len(animals))       # Print the number of elements (unchanged)\n",
    "animals.remove('cat')     # Remove an element from the set\n",
    "print(len(animals))       # Print the updated number of elements"
   ]
  },
  {
   "cell_type": "markdown",
   "id": "494de4a3-483a-4442-8856-3c1d4c683aa9",
   "metadata": {},
   "source": [
    "Iterating over a set:\n",
    "\n"
   ]
  },
  {
   "cell_type": "code",
   "execution_count": 34,
   "id": "1ceb0de0-da91-4cf3-a82f-3e69ce59e404",
   "metadata": {},
   "outputs": [
    {
     "name": "stdout",
     "output_type": "stream",
     "text": [
      "#1: dog\n",
      "#2: fish\n",
      "#3: cat\n"
     ]
    }
   ],
   "source": [
    "animals = {'cat', 'dog', 'fish'}\n",
    "for idx, animal in enumerate(animals):\n",
    "    print('#%d: %s' % (idx + 1, animal))  # Print index and animal"
   ]
  },
  {
   "cell_type": "markdown",
   "id": "38947e05-785b-45e3-8d44-94cf287a40cb",
   "metadata": {},
   "source": [
    "Set comprehensions:"
   ]
  },
  {
   "cell_type": "code",
   "execution_count": 36,
   "id": "15a1938e-8b2a-4016-a89e-5370b1efb434",
   "metadata": {},
   "outputs": [
    {
     "name": "stdout",
     "output_type": "stream",
     "text": [
      "{0, 1, 2, 3, 4, 5}\n"
     ]
    }
   ],
   "source": [
    "from math import sqrt\n",
    "nums = {int(sqrt(x)) for x in range(30)}  # Create a set of square roots\n",
    "print(nums)  # Print the set"
   ]
  },
  {
   "cell_type": "markdown",
   "id": "3fecc7ae-55c6-4cda-a430-904b69b761aa",
   "metadata": {},
   "source": [
    "#### Tuples\n",
    "A tuple is an immutable ordered list of values:"
   ]
  },
  {
   "cell_type": "code",
   "execution_count": 38,
   "id": "dca3bd6a-fa38-4545-8057-2dcd09521a95",
   "metadata": {},
   "outputs": [
    {
     "name": "stdout",
     "output_type": "stream",
     "text": [
      "<class 'tuple'>\n",
      "5\n",
      "1\n"
     ]
    }
   ],
   "source": [
    "d = {(x, x + 1): x for x in range(10)}  # Create a dictionary with tuple keys\n",
    "t = (5, 6)  # Create a tuple\n",
    "print(type(t))  # Check the type of t\n",
    "print(d[t])  # Access a value using a tuple key\n",
    "print(d[(1, 2)])  # Access another value using a tuple key"
   ]
  },
  {
   "cell_type": "markdown",
   "id": "1225807c-ba4c-4332-82c5-4e6be8700f54",
   "metadata": {},
   "source": [
    "## Numpy\n",
    "Numpy is the core library for scientific computing in Python.<br>It provides a high-performance multidimensional array object and tools for working with these arrays."
   ]
  },
  {
   "cell_type": "markdown",
   "id": "20f6d19e-17a8-4921-aed1-c27e8dce7669",
   "metadata": {},
   "source": [
    "#### Arrays\n",
    "A numpy array is a grid of values, all of the same type, indexed by a tuple of nonnegative integers:"
   ]
  },
  {
   "cell_type": "code",
   "execution_count": 41,
   "id": "7706e9cf-d42a-4b13-85dd-c29944324552",
   "metadata": {},
   "outputs": [
    {
     "name": "stdout",
     "output_type": "stream",
     "text": [
      "<class 'numpy.ndarray'>\n",
      "(3,)\n",
      "1 2 3\n",
      "[5 2 3]\n",
      "(2, 3)\n",
      "1 2 4\n"
     ]
    }
   ],
   "source": [
    "import numpy as np  # Import Numpy library as np\n",
    "\n",
    "a = np.array([1, 2, 3])  # Create a rank 1 array\n",
    "print(type(a))  # Check the type of the array\n",
    "print(a.shape)  # Print the shape of the array\n",
    "print(a[0], a[1], a[2])  # Print individual elements\n",
    "a[0] = 5  # Modify an element\n",
    "print(a)  # Print the updated array\n",
    "\n",
    "b = np.array([[1, 2, 3], [4, 5, 6]])  # Create a rank 2 array\n",
    "print(b.shape)  # Print the shape of the array\n",
    "print(b[0, 0], b[0, 1], b[1, 0])  # Print individual elements"
   ]
  },
  {
   "cell_type": "markdown",
   "id": "632adb64-f7aa-46e7-bbe0-bfb2a2a63283",
   "metadata": {},
   "source": [
    "### Array Creation\n",
    "Numpy provides functions to create arrays:"
   ]
  },
  {
   "cell_type": "code",
   "execution_count": 43,
   "id": "e5a47f62-493b-46ee-ae87-4447bf153f36",
   "metadata": {},
   "outputs": [
    {
     "name": "stdout",
     "output_type": "stream",
     "text": [
      "[[0. 0.]\n",
      " [0. 0.]]\n",
      "[[1. 1.]]\n",
      "[[7 7]\n",
      " [7 7]]\n",
      "[[1. 0.]\n",
      " [0. 1.]]\n",
      "[[0.26229767 0.30404948]\n",
      " [0.71302512 0.76483942]]\n"
     ]
    }
   ],
   "source": [
    "a = np.zeros((2, 2))  # Create an array of zeros\n",
    "print(a)\n",
    "\n",
    "b = np.ones((1, 2))  # Create an array of ones\n",
    "print(b)\n",
    "\n",
    "c = np.full((2, 2), 7)  # Create a constant array\n",
    "print(c)\n",
    "\n",
    "d = np.eye(2)  # Create a 2x2 identity matrix\n",
    "print(d)\n",
    "\n",
    "e = np.random.random((2, 2))  # Create an array with random values\n",
    "print(e)"
   ]
  },
  {
   "cell_type": "markdown",
   "id": "78031c13-f07a-415b-88df-ac0c0005f436",
   "metadata": {},
   "source": [
    "### Array Indexing\n",
    "Numpy arrays can be sliced:"
   ]
  },
  {
   "cell_type": "code",
   "execution_count": 45,
   "id": "492b92ba-8f2e-45bc-928f-afaebea07a0d",
   "metadata": {},
   "outputs": [
    {
     "name": "stdout",
     "output_type": "stream",
     "text": [
      "[[2 3]\n",
      " [6 7]]\n",
      "77\n"
     ]
    }
   ],
   "source": [
    "a = np.array([[1, 2, 3, 4], [5, 6, 7, 8], [9, 10, 11, 12]])\n",
    "b = a[:2, 1:3]  # Slice the first 2 rows and columns 1 and 2\n",
    "print(b)\n",
    "\n",
    "b[0, 0] = 77  # Modify the slice\n",
    "print(a[0, 1])  # The original array is also modified"
   ]
  },
  {
   "cell_type": "markdown",
   "id": "0a30686b-285e-4c7a-9047-74df8afc6d97",
   "metadata": {},
   "source": [
    "### Array Math\n",
    "Basic mathematical functions operate elementwise:"
   ]
  },
  {
   "cell_type": "code",
   "execution_count": 47,
   "id": "bf608f0d-8d73-4db9-9aae-5fbfa44e99a0",
   "metadata": {},
   "outputs": [
    {
     "name": "stdout",
     "output_type": "stream",
     "text": [
      "[[ 6.  8.]\n",
      " [10. 12.]]\n",
      "[[ 6.  8.]\n",
      " [10. 12.]]\n",
      "[[-4. -4.]\n",
      " [-4. -4.]]\n",
      "[[-4. -4.]\n",
      " [-4. -4.]]\n",
      "[[ 5. 12.]\n",
      " [21. 32.]]\n",
      "[[ 5. 12.]\n",
      " [21. 32.]]\n",
      "[[0.2        0.33333333]\n",
      " [0.42857143 0.5       ]]\n",
      "[[0.2        0.33333333]\n",
      " [0.42857143 0.5       ]]\n",
      "[[1.         1.41421356]\n",
      " [1.73205081 2.        ]]\n"
     ]
    }
   ],
   "source": [
    "x = np.array([[1, 2], [3, 4]], dtype=np.float64)\n",
    "y = np.array([[5, 6], [7, 8]], dtype=np.float64)\n",
    "\n",
    "print(x + y)  # Elementwise sum\n",
    "print(np.add(x, y))\n",
    "\n",
    "print(x - y)  # Elementwise difference\n",
    "print(np.subtract(x, y))\n",
    "\n",
    "print(x * y)  # Elementwise product\n",
    "print(np.multiply(x, y))\n",
    "\n",
    "print(x / y)  # Elementwise division\n",
    "print(np.divide(x, y))\n",
    "\n",
    "print(np.sqrt(x))  # Elementwise square root"
   ]
  },
  {
   "cell_type": "markdown",
   "id": "c7aebeaa-9862-4fb9-8aec-469e26bb33a4",
   "metadata": {},
   "source": [
    "Matrix multiplication is done using the dot function:"
   ]
  },
  {
   "cell_type": "code",
   "execution_count": 49,
   "id": "e9723e7e-ea9a-4f7c-9469-9c61c8d32572",
   "metadata": {},
   "outputs": [
    {
     "name": "stdout",
     "output_type": "stream",
     "text": [
      "219\n",
      "219\n",
      "[29 67]\n",
      "[29 67]\n",
      "[[19 22]\n",
      " [43 50]]\n",
      "[[19 22]\n",
      " [43 50]]\n"
     ]
    }
   ],
   "source": [
    "x = np.array([[1, 2], [3, 4]])\n",
    "y = np.array([[5, 6], [7, 8]])\n",
    "\n",
    "v = np.array([9, 10])\n",
    "w = np.array([11, 12])\n",
    "\n",
    "print(v.dot(w))  # Inner product of vectors\n",
    "print(np.dot(v, w))\n",
    "\n",
    "print(x.dot(v))  # Matrix / vector product\n",
    "print(np.dot(x, v))\n",
    "\n",
    "print(x.dot(y))  # Matrix / matrix product\n",
    "print(np.dot(x, y))"
   ]
  },
  {
   "cell_type": "markdown",
   "id": "7b4f8bb0-b86b-4ed8-9398-5801e95da0e6",
   "metadata": {},
   "source": [
    "### Array Manipulation\n",
    "Transposing a matrix:"
   ]
  },
  {
   "cell_type": "code",
   "execution_count": 51,
   "id": "9d12e25d-2cb7-4a1e-8d6d-2382718139b8",
   "metadata": {},
   "outputs": [
    {
     "name": "stdout",
     "output_type": "stream",
     "text": [
      "[[1 2]\n",
      " [3 4]]\n",
      "[[1 3]\n",
      " [2 4]]\n",
      "[1 2 3]\n",
      "[1 2 3]\n"
     ]
    }
   ],
   "source": [
    "x = np.array([[1, 2], [3, 4]])\n",
    "print(x)\n",
    "print(x.T)  # Transpose the matrix\n",
    "\n",
    "v = np.array([1, 2, 3])\n",
    "print(v)\n",
    "print(v.T)  # Transposing a rank 1 array does nothing"
   ]
  },
  {
   "cell_type": "markdown",
   "id": "60fe3dfb-1fcb-43ab-9f35-21cade9e55e7",
   "metadata": {},
   "source": [
    "### Broadcasting\n",
    "Broadcasting allows numpy to work with arrays of different shapes:"
   ]
  },
  {
   "cell_type": "code",
   "execution_count": 53,
   "id": "4c46dfb8-29f2-4ffa-bc15-61b461ed88fe",
   "metadata": {},
   "outputs": [
    {
     "name": "stdout",
     "output_type": "stream",
     "text": [
      "[[ 2  2  4]\n",
      " [ 5  5  7]\n",
      " [ 8  8 10]\n",
      " [11 11 13]]\n"
     ]
    }
   ],
   "source": [
    "x = np.array([[1, 2, 3], [4, 5, 6], [7, 8, 9], [10, 11, 12]])\n",
    "v = np.array([1, 0, 1])\n",
    "y = x + v  # Add v to each row of x using broadcasting\n",
    "print(y)"
   ]
  },
  {
   "cell_type": "markdown",
   "id": "1ae15ccd-fa09-48ec-afda-076a6fbef5c5",
   "metadata": {},
   "source": [
    "## Scipy\n",
    "Scipy builds on Numpy and provides additional functions for scientific computing."
   ]
  },
  {
   "cell_type": "markdown",
   "id": "2f48f53d-0972-48fb-9065-0bf7ab3cc9a8",
   "metadata": {},
   "source": [
    "### Distance Between Points\n",
    "Scipy provides functions to compute distances between points:"
   ]
  },
  {
   "cell_type": "code",
   "execution_count": 56,
   "id": "685f77ec-6ffc-4490-aa8b-e9fa61683ee1",
   "metadata": {},
   "outputs": [],
   "source": [
    "import numpy as np\n",
    "from scipy.spatial.distance import pdist, squareform"
   ]
  },
  {
   "cell_type": "code",
   "execution_count": 57,
   "id": "d82aa788-9031-4617-bcf3-07d2e5f50181",
   "metadata": {},
   "outputs": [
    {
     "name": "stdout",
     "output_type": "stream",
     "text": [
      "[[0.         1.41421356 2.23606798]\n",
      " [1.41421356 0.         1.        ]\n",
      " [2.23606798 1.         0.        ]]\n"
     ]
    }
   ],
   "source": [
    "x = np.array([[0, 1], [1, 0], [2, 0]])\n",
    "d = squareform(pdist(x, 'euclidean'))  # Compute Euclidean distances\n",
    "print(d)"
   ]
  },
  {
   "cell_type": "markdown",
   "id": "6d54caf5-02be-412a-b63c-464c075e0a02",
   "metadata": {},
   "source": [
    "### Matplotlib\n",
    "Matplotlib is a plotting library. Here’s a simple example:"
   ]
  },
  {
   "cell_type": "code",
   "execution_count": 59,
   "id": "1979d1d4-40d2-43ff-b5cb-37615d0ffc8b",
   "metadata": {},
   "outputs": [
    {
     "data": {
      "image/png": "[encoded data removed]",
      "text/plain": [
       "<Figure size 640x480 with 1 Axes>"
      ]
     },
     "metadata": {},
     "output_type": "display_data"
    }
   ],
   "source": [
    "import numpy as np\n",
    "import matplotlib.pyplot as plt\n",
    "\n",
    "x = np.arange(0, 3 * np.pi, 0.1)\n",
    "y = np.sin(x)\n",
    "\n",
    "plt.plot(x, y)  # Plot the sine curve\n",
    "plt.show()  # Display the plot"
   ]
  },
  {
   "cell_type": "markdown",
   "id": "76e33e9f-2028-4dc6-8827-c0abfea32bcd",
   "metadata": {},
   "source": [
    "## Seaborn\n",
    "Seaborn is a statistical data visualization library. Here’s an example using the Iris dataset:"
   ]
  },
  {
   "cell_type": "code",
   "execution_count": 61,
   "id": "c0f8bee4-38af-4c16-b39c-da2a89a70323",
   "metadata": {},
   "outputs": [
    {
     "name": "stderr",
     "output_type": "stream",
     "text": [
      "C:\\Users\\PC\\anaconda3\\Lib\\site-packages\\seaborn\\axisgrid.py:118: UserWarning: The figure layout has changed to tight\n",
      "  self._figure.tight_layout(*args, **kwargs)\n"
     ]
    },
    {
     "data": {
      "image/png": "[encoded data removed]",
      "text/plain": [
       "<Figure size 500x500 with 3 Axes>"
      ]
     },
     "metadata": {},
     "output_type": "display_data"
    },
    {
     "data": {
      "image/png": "[encoded data removed]",
      "text/plain": [
       "<Figure size 643x500 with 1 Axes>"
      ]
     },
     "metadata": {},
     "output_type": "display_data"
    }
   ],
   "source": [
    "import seaborn as sns\n",
    "import matplotlib.pyplot as plt\n",
    "from pandas import read_csv\n",
    "\n",
    "url = \"https://raw.githubusercontent.com/jbrownlee/Datasets/master/iris.csv\"\n",
    "names = ['sepal-length', 'sepal-width', 'petal-length', 'petal-width', 'class']\n",
    "dataset = read_csv(url, names=names)\n",
    "\n",
    "sns.jointplot(x='sepal-length', y='sepal-width', data=dataset, height=5)  # Joint plot\n",
    "sns.FacetGrid(dataset, hue='class', height=5).map(plt.scatter, 'sepal-length', 'sepal-width').add_legend()  # Scatter plot\n",
    "plt.show()  # Display the plot"
   ]
  },
  {
   "cell_type": "markdown",
   "id": "b54dc3d1-05e5-47cb-8396-4896f7672555",
   "metadata": {},
   "source": [
    "# Pick 5 NumPy array functions that you find interesting and 3 SciPy functions. Run and modify the starter code to illustrate their usage with interesting examples."
   ]
  },
  {
   "cell_type": "code",
   "execution_count": 117,
   "id": "ba123d86-010c-4976-8b6e-84b98f198964",
   "metadata": {},
   "outputs": [
    {
     "name": "stdout",
     "output_type": "stream",
     "text": [
      "Matrix Dot Product:\n",
      " [[19 22]\n",
      " [43 50]]\n"
     ]
    }
   ],
   "source": [
    "# 1. np.dot - Matrix Multiplication\n",
    "# Performs dot product of two 2x2 matrices.\n",
    "a = np.array([[1, 2], [3, 4]])\n",
    "b = np.array([[5, 6], [7, 8]])\n",
    "dot_product = np.dot(a, b)\n",
    "print(\"Matrix Dot Product:\\n\", dot_product)"
   ]
  },
  {
   "cell_type": "code",
   "execution_count": 111,
   "id": "c3315a5f-58d7-4e3a-bfa5-75b0e04fc1d6",
   "metadata": {},
   "outputs": [
    {
     "name": "stdout",
     "output_type": "stream",
     "text": [
      "[[0. 0.]\n",
      " [0. 0.]]\n"
     ]
    }
   ],
   "source": [
    "#\n",
    "a = np.zeros((2, 2))  # Create an array of zeros\n",
    "print(a)\n"
   ]
  }
 ],
 "metadata": {
  "kernelspec": {
   "display_name": "Python 3 (ipykernel)",
   "language": "python",
   "name": "python3"
  },
  "language_info": {
   "codemirror_mode": {
    "name": "ipython",
    "version": 3
   },
   "file_extension": ".py",
   "mimetype": "text/x-python",
   "name": "python",
   "nbconvert_exporter": "python",
   "pygments_lexer": "ipython3",
   "version": "3.11.5"
  }
 },
 "nbformat": 4,
 "nbformat_minor": 5
}
